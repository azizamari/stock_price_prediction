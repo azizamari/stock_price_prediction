{
  "nbformat": 4,
  "nbformat_minor": 0,
  "metadata": {
    "colab": {
      "provenance": [],
      "authorship_tag": "ABX9TyPDW7ySs/8IVzgcjz8C+Aof",
      "include_colab_link": true
    },
    "kernelspec": {
      "name": "python3",
      "display_name": "Python 3"
    },
    "language_info": {
      "name": "python"
    },
    "accelerator": "GPU",
    "gpuClass": "standard"
  },
  "cells": [
    {
      "cell_type": "markdown",
      "metadata": {
        "id": "view-in-github",
        "colab_type": "text"
      },
      "source": [
        "<a href=\"https://colab.research.google.com/github/azizamari/stock_price_prediction/blob/main/Stock_Market_Prediction_using_Numerical_and_Textual_Analysis.ipynb\" target=\"_parent\"><img src=\"https://colab.research.google.com/assets/colab-badge.svg\" alt=\"Open In Colab\"/></a>"
      ]
    },
    {
      "cell_type": "code",
      "execution_count": null,
      "metadata": {
        "colab": {
          "base_uri": "https://localhost:8080/"
        },
        "id": "d_DaVWIEPtXA",
        "outputId": "738bcc86-5278-4f1d-c152-f85223b75c1c"
      },
      "outputs": [
        {
          "output_type": "stream",
          "name": "stdout",
          "text": [
            "Looking in indexes: https://pypi.org/simple, https://us-python.pkg.dev/colab-wheels/public/simple/\n",
            "Requirement already satisfied: yfinance in /usr/local/lib/python3.8/dist-packages (0.2.3)\n",
            "Requirement already satisfied: lxml>=4.9.1 in /usr/local/lib/python3.8/dist-packages (from yfinance) (4.9.2)\n",
            "Requirement already satisfied: beautifulsoup4>=4.11.1 in /usr/local/lib/python3.8/dist-packages (from yfinance) (4.11.1)\n",
            "Requirement already satisfied: multitasking>=0.0.7 in /usr/local/lib/python3.8/dist-packages (from yfinance) (0.0.11)\n",
            "Requirement already satisfied: requests>=2.26 in /usr/local/lib/python3.8/dist-packages (from yfinance) (2.28.1)\n",
            "Requirement already satisfied: pandas>=1.3.0 in /usr/local/lib/python3.8/dist-packages (from yfinance) (1.3.5)\n",
            "Requirement already satisfied: cryptography>=3.3.2 in /usr/local/lib/python3.8/dist-packages (from yfinance) (39.0.0)\n",
            "Requirement already satisfied: appdirs>=1.4.4 in /usr/local/lib/python3.8/dist-packages (from yfinance) (1.4.4)\n",
            "Requirement already satisfied: numpy>=1.16.5 in /usr/local/lib/python3.8/dist-packages (from yfinance) (1.21.6)\n",
            "Requirement already satisfied: pytz>=2022.5 in /usr/local/lib/python3.8/dist-packages (from yfinance) (2022.7)\n",
            "Requirement already satisfied: html5lib>=1.1 in /usr/local/lib/python3.8/dist-packages (from yfinance) (1.1)\n",
            "Requirement already satisfied: frozendict>=2.3.4 in /usr/local/lib/python3.8/dist-packages (from yfinance) (2.3.4)\n",
            "Requirement already satisfied: soupsieve>1.2 in /usr/local/lib/python3.8/dist-packages (from beautifulsoup4>=4.11.1->yfinance) (2.3.2.post1)\n",
            "Requirement already satisfied: cffi>=1.12 in /usr/local/lib/python3.8/dist-packages (from cryptography>=3.3.2->yfinance) (1.15.1)\n",
            "Requirement already satisfied: webencodings in /usr/local/lib/python3.8/dist-packages (from html5lib>=1.1->yfinance) (0.5.1)\n",
            "Requirement already satisfied: six>=1.9 in /usr/local/lib/python3.8/dist-packages (from html5lib>=1.1->yfinance) (1.15.0)\n",
            "Requirement already satisfied: python-dateutil>=2.7.3 in /usr/local/lib/python3.8/dist-packages (from pandas>=1.3.0->yfinance) (2.8.2)\n",
            "Requirement already satisfied: idna<4,>=2.5 in /usr/local/lib/python3.8/dist-packages (from requests>=2.26->yfinance) (2.10)\n",
            "Requirement already satisfied: urllib3<1.27,>=1.21.1 in /usr/local/lib/python3.8/dist-packages (from requests>=2.26->yfinance) (1.24.3)\n",
            "Requirement already satisfied: certifi>=2017.4.17 in /usr/local/lib/python3.8/dist-packages (from requests>=2.26->yfinance) (2022.12.7)\n",
            "Requirement already satisfied: charset-normalizer<3,>=2 in /usr/local/lib/python3.8/dist-packages (from requests>=2.26->yfinance) (2.1.1)\n",
            "Requirement already satisfied: pycparser in /usr/local/lib/python3.8/dist-packages (from cffi>=1.12->cryptography>=3.3.2->yfinance) (2.21)\n"
          ]
        }
      ],
      "source": [
        "!pip install yfinance"
      ]
    },
    {
      "cell_type": "markdown",
      "source": [
        "## Importing Dependencies"
      ],
      "metadata": {
        "id": "eOSOgeamQR6W"
      }
    },
    {
      "cell_type": "code",
      "source": [
        "import yfinance as yf\n",
        "import pandas as pd\n",
        "import nltk\n",
        "import re\n",
        "import numpy as np\n",
        "from nltk.corpus import stopwords\n",
        "from nltk.stem.porter import PorterStemmer\n",
        "from pandas import DataFrame as df\n",
        "from pandas import concat\n",
        "import matplotlib.pyplot as plt"
      ],
      "metadata": {
        "id": "P7GpxaV1T1lq"
      },
      "execution_count": null,
      "outputs": []
    },
    {
      "cell_type": "code",
      "source": [
        "# define dates\n",
        "start='2021-10-01'\n",
        "end='2022-01-01'\n",
        "startstamp=20211001"
      ],
      "metadata": {
        "id": "hjt6n6OyO4Mu"
      },
      "execution_count": null,
      "outputs": []
    },
    {
      "cell_type": "markdown",
      "source": [
        "## Get data from yahoo finance"
      ],
      "metadata": {
        "id": "ip8FCcc3T3k1"
      }
    },
    {
      "cell_type": "code",
      "source": [
        "past_data = yf.download('^BSESN', start=start, end=end)"
      ],
      "metadata": {
        "colab": {
          "base_uri": "https://localhost:8080/"
        },
        "id": "OBQEdfU7UWIf",
        "outputId": "719fe082-a666-4230-a180-7f463fc6b3c0"
      },
      "execution_count": null,
      "outputs": [
        {
          "output_type": "stream",
          "name": "stdout",
          "text": [
            "\r[*********************100%***********************]  1 of 1 completed\n"
          ]
        }
      ]
    },
    {
      "cell_type": "code",
      "source": [
        "print(past_data.columns)\n",
        "past_data.head()"
      ],
      "metadata": {
        "colab": {
          "base_uri": "https://localhost:8080/",
          "height": 255
        },
        "id": "xFSqLZvOUpMc",
        "outputId": "88a9dc0f-de5c-4d83-ee89-87502e827b00"
      },
      "execution_count": null,
      "outputs": [
        {
          "output_type": "stream",
          "name": "stdout",
          "text": [
            "Index(['Open', 'High', 'Low', 'Close', 'Adj Close', 'Volume'], dtype='object')\n"
          ]
        },
        {
          "output_type": "execute_result",
          "data": {
            "text/plain": [
              "                    Open          High           Low         Close  \\\n",
              "Date                                                                 \n",
              "2021-10-01  58889.769531  58890.078125  58551.140625  58765.578125   \n",
              "2021-10-04  59143.000000  59548.820312  58952.109375  59299.320312   \n",
              "2021-10-05  59320.140625  59778.871094  59127.039062  59744.878906   \n",
              "2021-10-06  59942.000000  59963.570312  59079.859375  59189.730469   \n",
              "2021-10-07  59632.808594  59914.910156  59597.058594  59677.828125   \n",
              "\n",
              "               Adj Close  Volume  \n",
              "Date                              \n",
              "2021-10-01  58765.578125   10200  \n",
              "2021-10-04  59299.320312   10000  \n",
              "2021-10-05  59744.878906   12900  \n",
              "2021-10-06  59189.730469    7000  \n",
              "2021-10-07  59677.828125    5700  "
            ],
            "text/html": [
              "\n",
              "  <div id=\"df-10aa2ddd-0d1d-4a8d-b579-c0cdd867530c\">\n",
              "    <div class=\"colab-df-container\">\n",
              "      <div>\n",
              "<style scoped>\n",
              "    .dataframe tbody tr th:only-of-type {\n",
              "        vertical-align: middle;\n",
              "    }\n",
              "\n",
              "    .dataframe tbody tr th {\n",
              "        vertical-align: top;\n",
              "    }\n",
              "\n",
              "    .dataframe thead th {\n",
              "        text-align: right;\n",
              "    }\n",
              "</style>\n",
              "<table border=\"1\" class=\"dataframe\">\n",
              "  <thead>\n",
              "    <tr style=\"text-align: right;\">\n",
              "      <th></th>\n",
              "      <th>Open</th>\n",
              "      <th>High</th>\n",
              "      <th>Low</th>\n",
              "      <th>Close</th>\n",
              "      <th>Adj Close</th>\n",
              "      <th>Volume</th>\n",
              "    </tr>\n",
              "    <tr>\n",
              "      <th>Date</th>\n",
              "      <th></th>\n",
              "      <th></th>\n",
              "      <th></th>\n",
              "      <th></th>\n",
              "      <th></th>\n",
              "      <th></th>\n",
              "    </tr>\n",
              "  </thead>\n",
              "  <tbody>\n",
              "    <tr>\n",
              "      <th>2021-10-01</th>\n",
              "      <td>58889.769531</td>\n",
              "      <td>58890.078125</td>\n",
              "      <td>58551.140625</td>\n",
              "      <td>58765.578125</td>\n",
              "      <td>58765.578125</td>\n",
              "      <td>10200</td>\n",
              "    </tr>\n",
              "    <tr>\n",
              "      <th>2021-10-04</th>\n",
              "      <td>59143.000000</td>\n",
              "      <td>59548.820312</td>\n",
              "      <td>58952.109375</td>\n",
              "      <td>59299.320312</td>\n",
              "      <td>59299.320312</td>\n",
              "      <td>10000</td>\n",
              "    </tr>\n",
              "    <tr>\n",
              "      <th>2021-10-05</th>\n",
              "      <td>59320.140625</td>\n",
              "      <td>59778.871094</td>\n",
              "      <td>59127.039062</td>\n",
              "      <td>59744.878906</td>\n",
              "      <td>59744.878906</td>\n",
              "      <td>12900</td>\n",
              "    </tr>\n",
              "    <tr>\n",
              "      <th>2021-10-06</th>\n",
              "      <td>59942.000000</td>\n",
              "      <td>59963.570312</td>\n",
              "      <td>59079.859375</td>\n",
              "      <td>59189.730469</td>\n",
              "      <td>59189.730469</td>\n",
              "      <td>7000</td>\n",
              "    </tr>\n",
              "    <tr>\n",
              "      <th>2021-10-07</th>\n",
              "      <td>59632.808594</td>\n",
              "      <td>59914.910156</td>\n",
              "      <td>59597.058594</td>\n",
              "      <td>59677.828125</td>\n",
              "      <td>59677.828125</td>\n",
              "      <td>5700</td>\n",
              "    </tr>\n",
              "  </tbody>\n",
              "</table>\n",
              "</div>\n",
              "      <button class=\"colab-df-convert\" onclick=\"convertToInteractive('df-10aa2ddd-0d1d-4a8d-b579-c0cdd867530c')\"\n",
              "              title=\"Convert this dataframe to an interactive table.\"\n",
              "              style=\"display:none;\">\n",
              "        \n",
              "  <svg xmlns=\"http://www.w3.org/2000/svg\" height=\"24px\"viewBox=\"0 0 24 24\"\n",
              "       width=\"24px\">\n",
              "    <path d=\"M0 0h24v24H0V0z\" fill=\"none\"/>\n",
              "    <path d=\"M18.56 5.44l.94 2.06.94-2.06 2.06-.94-2.06-.94-.94-2.06-.94 2.06-2.06.94zm-11 1L8.5 8.5l.94-2.06 2.06-.94-2.06-.94L8.5 2.5l-.94 2.06-2.06.94zm10 10l.94 2.06.94-2.06 2.06-.94-2.06-.94-.94-2.06-.94 2.06-2.06.94z\"/><path d=\"M17.41 7.96l-1.37-1.37c-.4-.4-.92-.59-1.43-.59-.52 0-1.04.2-1.43.59L10.3 9.45l-7.72 7.72c-.78.78-.78 2.05 0 2.83L4 21.41c.39.39.9.59 1.41.59.51 0 1.02-.2 1.41-.59l7.78-7.78 2.81-2.81c.8-.78.8-2.07 0-2.86zM5.41 20L4 18.59l7.72-7.72 1.47 1.35L5.41 20z\"/>\n",
              "  </svg>\n",
              "      </button>\n",
              "      \n",
              "  <style>\n",
              "    .colab-df-container {\n",
              "      display:flex;\n",
              "      flex-wrap:wrap;\n",
              "      gap: 12px;\n",
              "    }\n",
              "\n",
              "    .colab-df-convert {\n",
              "      background-color: #E8F0FE;\n",
              "      border: none;\n",
              "      border-radius: 50%;\n",
              "      cursor: pointer;\n",
              "      display: none;\n",
              "      fill: #1967D2;\n",
              "      height: 32px;\n",
              "      padding: 0 0 0 0;\n",
              "      width: 32px;\n",
              "    }\n",
              "\n",
              "    .colab-df-convert:hover {\n",
              "      background-color: #E2EBFA;\n",
              "      box-shadow: 0px 1px 2px rgba(60, 64, 67, 0.3), 0px 1px 3px 1px rgba(60, 64, 67, 0.15);\n",
              "      fill: #174EA6;\n",
              "    }\n",
              "\n",
              "    [theme=dark] .colab-df-convert {\n",
              "      background-color: #3B4455;\n",
              "      fill: #D2E3FC;\n",
              "    }\n",
              "\n",
              "    [theme=dark] .colab-df-convert:hover {\n",
              "      background-color: #434B5C;\n",
              "      box-shadow: 0px 1px 3px 1px rgba(0, 0, 0, 0.15);\n",
              "      filter: drop-shadow(0px 1px 2px rgba(0, 0, 0, 0.3));\n",
              "      fill: #FFFFFF;\n",
              "    }\n",
              "  </style>\n",
              "\n",
              "      <script>\n",
              "        const buttonEl =\n",
              "          document.querySelector('#df-10aa2ddd-0d1d-4a8d-b579-c0cdd867530c button.colab-df-convert');\n",
              "        buttonEl.style.display =\n",
              "          google.colab.kernel.accessAllowed ? 'block' : 'none';\n",
              "\n",
              "        async function convertToInteractive(key) {\n",
              "          const element = document.querySelector('#df-10aa2ddd-0d1d-4a8d-b579-c0cdd867530c');\n",
              "          const dataTable =\n",
              "            await google.colab.kernel.invokeFunction('convertToInteractive',\n",
              "                                                     [key], {});\n",
              "          if (!dataTable) return;\n",
              "\n",
              "          const docLinkHtml = 'Like what you see? Visit the ' +\n",
              "            '<a target=\"_blank\" href=https://colab.research.google.com/notebooks/data_table.ipynb>data table notebook</a>'\n",
              "            + ' to learn more about interactive tables.';\n",
              "          element.innerHTML = '';\n",
              "          dataTable['output_type'] = 'display_data';\n",
              "          await google.colab.output.renderOutput(dataTable, element);\n",
              "          const docLink = document.createElement('div');\n",
              "          docLink.innerHTML = docLinkHtml;\n",
              "          element.appendChild(docLink);\n",
              "        }\n",
              "      </script>\n",
              "    </div>\n",
              "  </div>\n",
              "  "
            ]
          },
          "metadata": {},
          "execution_count": 22
        }
      ]
    },
    {
      "cell_type": "markdown",
      "source": [
        "To better understand stock data I read through this article \n",
        "[link](https://analyzingalpha.com/open-high-low-close-stocks)\n"
      ],
      "metadata": {
        "id": "88Z4rBH7eGmk"
      }
    },
    {
      "cell_type": "code",
      "source": [
        "past_data.info()"
      ],
      "metadata": {
        "colab": {
          "base_uri": "https://localhost:8080/"
        },
        "id": "I6mjABj5VRB5",
        "outputId": "edce9e0b-b02f-48dd-e5d9-284c97bc880b"
      },
      "execution_count": null,
      "outputs": [
        {
          "output_type": "stream",
          "name": "stdout",
          "text": [
            "<class 'pandas.core.frame.DataFrame'>\n",
            "DatetimeIndex: 63 entries, 2021-10-01 to 2021-12-31\n",
            "Data columns (total 6 columns):\n",
            " #   Column     Non-Null Count  Dtype  \n",
            "---  ------     --------------  -----  \n",
            " 0   Open       63 non-null     float64\n",
            " 1   High       63 non-null     float64\n",
            " 2   Low        63 non-null     float64\n",
            " 3   Close      63 non-null     float64\n",
            " 4   Adj Close  63 non-null     float64\n",
            " 5   Volume     63 non-null     int64  \n",
            "dtypes: float64(5), int64(1)\n",
            "memory usage: 3.4 KB\n"
          ]
        }
      ]
    },
    {
      "cell_type": "markdown",
      "source": [
        "## Get india news headlines dataset"
      ],
      "metadata": {
        "id": "hCZi0niHWz-p"
      }
    },
    {
      "cell_type": "code",
      "source": [
        "! pip install kaggle"
      ],
      "metadata": {
        "colab": {
          "base_uri": "https://localhost:8080/"
        },
        "id": "LyTP0Vm7W5fe",
        "outputId": "15cff40f-29ad-4014-f2b0-a9ce848fddb8"
      },
      "execution_count": null,
      "outputs": [
        {
          "output_type": "stream",
          "name": "stdout",
          "text": [
            "Looking in indexes: https://pypi.org/simple, https://us-python.pkg.dev/colab-wheels/public/simple/\n",
            "Requirement already satisfied: kaggle in /usr/local/lib/python3.8/dist-packages (1.5.12)\n",
            "Requirement already satisfied: python-dateutil in /usr/local/lib/python3.8/dist-packages (from kaggle) (2.8.2)\n",
            "Requirement already satisfied: certifi in /usr/local/lib/python3.8/dist-packages (from kaggle) (2022.12.7)\n",
            "Requirement already satisfied: six>=1.10 in /usr/local/lib/python3.8/dist-packages (from kaggle) (1.15.0)\n",
            "Requirement already satisfied: python-slugify in /usr/local/lib/python3.8/dist-packages (from kaggle) (7.0.0)\n",
            "Requirement already satisfied: urllib3 in /usr/local/lib/python3.8/dist-packages (from kaggle) (1.24.3)\n",
            "Requirement already satisfied: requests in /usr/local/lib/python3.8/dist-packages (from kaggle) (2.28.1)\n",
            "Requirement already satisfied: tqdm in /usr/local/lib/python3.8/dist-packages (from kaggle) (4.64.1)\n",
            "Requirement already satisfied: text-unidecode>=1.3 in /usr/local/lib/python3.8/dist-packages (from python-slugify->kaggle) (1.3)\n",
            "Requirement already satisfied: charset-normalizer<3,>=2 in /usr/local/lib/python3.8/dist-packages (from requests->kaggle) (2.1.1)\n",
            "Requirement already satisfied: idna<4,>=2.5 in /usr/local/lib/python3.8/dist-packages (from requests->kaggle) (2.10)\n"
          ]
        }
      ]
    },
    {
      "cell_type": "code",
      "source": [
        "! mkdir ~/.kaggle"
      ],
      "metadata": {
        "id": "Blfdbiehc6Nt",
        "colab": {
          "base_uri": "https://localhost:8080/"
        },
        "outputId": "8ada4c6a-e67a-4c11-fa2c-69eaa395505a"
      },
      "execution_count": null,
      "outputs": [
        {
          "output_type": "stream",
          "name": "stdout",
          "text": [
            "mkdir: cannot create directory ‘/root/.kaggle’: File exists\n"
          ]
        }
      ]
    },
    {
      "cell_type": "code",
      "source": [
        "! cp kaggle.json ~/.kaggle/"
      ],
      "metadata": {
        "id": "9g81omflc9A3"
      },
      "execution_count": null,
      "outputs": []
    },
    {
      "cell_type": "code",
      "source": [
        "! chmod 600 ~/.kaggle/kaggle.json"
      ],
      "metadata": {
        "id": "avjwRcxadCc4"
      },
      "execution_count": null,
      "outputs": []
    },
    {
      "cell_type": "code",
      "source": [
        "!kaggle datasets download -d therohk/india-headlines-news-dataset"
      ],
      "metadata": {
        "colab": {
          "base_uri": "https://localhost:8080/"
        },
        "id": "iMmly2skW31P",
        "outputId": "92e2204f-7f6c-46ca-e57e-ed3743396be7"
      },
      "execution_count": null,
      "outputs": [
        {
          "output_type": "stream",
          "name": "stdout",
          "text": [
            "Downloading india-headlines-news-dataset.zip to /content\n",
            " 98% 85.0M/86.6M [00:02<00:00, 34.4MB/s]\n",
            "100% 86.6M/86.6M [00:02<00:00, 33.4MB/s]\n"
          ]
        }
      ]
    },
    {
      "cell_type": "code",
      "source": [
        "!unzip india-headlines-news-dataset.zip"
      ],
      "metadata": {
        "colab": {
          "base_uri": "https://localhost:8080/"
        },
        "id": "MbDzNAs-dmdK",
        "outputId": "2cdebae5-e243-406d-b7b3-3737e6a320f6"
      },
      "execution_count": null,
      "outputs": [
        {
          "output_type": "stream",
          "name": "stdout",
          "text": [
            "Archive:  india-headlines-news-dataset.zip\n",
            "  inflating: india-news-headlines.csv  \n"
          ]
        }
      ]
    },
    {
      "cell_type": "code",
      "source": [
        "cols = ['Date','News']\n",
        "news_data = pd.read_csv('india-news-headlines.csv', names = cols)\n",
        "news_data = news_data.dropna(axis = 0, how ='any') \n",
        "news_data.head()"
      ],
      "metadata": {
        "colab": {
          "base_uri": "https://localhost:8080/",
          "height": 261
        },
        "id": "R2vpwPR9eF-E",
        "outputId": "2da13ab1-28c4-45ee-b379-1e3b11ab5b7b"
      },
      "execution_count": null,
      "outputs": [
        {
          "output_type": "stream",
          "name": "stderr",
          "text": [
            "/usr/local/lib/python3.8/dist-packages/IPython/core/interactiveshell.py:3326: DtypeWarning: Columns (0) have mixed types.Specify dtype option on import or set low_memory=False.\n",
            "  exec(code_obj, self.user_global_ns, self.user_ns)\n"
          ]
        },
        {
          "output_type": "execute_result",
          "data": {
            "text/plain": [
              "                           Date  \\\n",
              "publish_date  headline_category   \n",
              "20010102                unknown   \n",
              "20010102                unknown   \n",
              "20010102                unknown   \n",
              "20010102                unknown   \n",
              "\n",
              "                                                           News  \n",
              "publish_date                                      headline_text  \n",
              "20010102      Status quo will not be disturbed at Ayodhya; s...  \n",
              "20010102                    Fissures in Hurriyat over Pak visit  \n",
              "20010102                  America's unwanted heading for India?  \n",
              "20010102                     For bigwigs; it is destination Goa  "
            ],
            "text/html": [
              "\n",
              "  <div id=\"df-4c7ca8e3-5e69-4dba-99bb-076ab46b6143\">\n",
              "    <div class=\"colab-df-container\">\n",
              "      <div>\n",
              "<style scoped>\n",
              "    .dataframe tbody tr th:only-of-type {\n",
              "        vertical-align: middle;\n",
              "    }\n",
              "\n",
              "    .dataframe tbody tr th {\n",
              "        vertical-align: top;\n",
              "    }\n",
              "\n",
              "    .dataframe thead th {\n",
              "        text-align: right;\n",
              "    }\n",
              "</style>\n",
              "<table border=\"1\" class=\"dataframe\">\n",
              "  <thead>\n",
              "    <tr style=\"text-align: right;\">\n",
              "      <th></th>\n",
              "      <th>Date</th>\n",
              "      <th>News</th>\n",
              "    </tr>\n",
              "  </thead>\n",
              "  <tbody>\n",
              "    <tr>\n",
              "      <th>publish_date</th>\n",
              "      <td>headline_category</td>\n",
              "      <td>headline_text</td>\n",
              "    </tr>\n",
              "    <tr>\n",
              "      <th>20010102</th>\n",
              "      <td>unknown</td>\n",
              "      <td>Status quo will not be disturbed at Ayodhya; s...</td>\n",
              "    </tr>\n",
              "    <tr>\n",
              "      <th>20010102</th>\n",
              "      <td>unknown</td>\n",
              "      <td>Fissures in Hurriyat over Pak visit</td>\n",
              "    </tr>\n",
              "    <tr>\n",
              "      <th>20010102</th>\n",
              "      <td>unknown</td>\n",
              "      <td>America's unwanted heading for India?</td>\n",
              "    </tr>\n",
              "    <tr>\n",
              "      <th>20010102</th>\n",
              "      <td>unknown</td>\n",
              "      <td>For bigwigs; it is destination Goa</td>\n",
              "    </tr>\n",
              "  </tbody>\n",
              "</table>\n",
              "</div>\n",
              "      <button class=\"colab-df-convert\" onclick=\"convertToInteractive('df-4c7ca8e3-5e69-4dba-99bb-076ab46b6143')\"\n",
              "              title=\"Convert this dataframe to an interactive table.\"\n",
              "              style=\"display:none;\">\n",
              "        \n",
              "  <svg xmlns=\"http://www.w3.org/2000/svg\" height=\"24px\"viewBox=\"0 0 24 24\"\n",
              "       width=\"24px\">\n",
              "    <path d=\"M0 0h24v24H0V0z\" fill=\"none\"/>\n",
              "    <path d=\"M18.56 5.44l.94 2.06.94-2.06 2.06-.94-2.06-.94-.94-2.06-.94 2.06-2.06.94zm-11 1L8.5 8.5l.94-2.06 2.06-.94-2.06-.94L8.5 2.5l-.94 2.06-2.06.94zm10 10l.94 2.06.94-2.06 2.06-.94-2.06-.94-.94-2.06-.94 2.06-2.06.94z\"/><path d=\"M17.41 7.96l-1.37-1.37c-.4-.4-.92-.59-1.43-.59-.52 0-1.04.2-1.43.59L10.3 9.45l-7.72 7.72c-.78.78-.78 2.05 0 2.83L4 21.41c.39.39.9.59 1.41.59.51 0 1.02-.2 1.41-.59l7.78-7.78 2.81-2.81c.8-.78.8-2.07 0-2.86zM5.41 20L4 18.59l7.72-7.72 1.47 1.35L5.41 20z\"/>\n",
              "  </svg>\n",
              "      </button>\n",
              "      \n",
              "  <style>\n",
              "    .colab-df-container {\n",
              "      display:flex;\n",
              "      flex-wrap:wrap;\n",
              "      gap: 12px;\n",
              "    }\n",
              "\n",
              "    .colab-df-convert {\n",
              "      background-color: #E8F0FE;\n",
              "      border: none;\n",
              "      border-radius: 50%;\n",
              "      cursor: pointer;\n",
              "      display: none;\n",
              "      fill: #1967D2;\n",
              "      height: 32px;\n",
              "      padding: 0 0 0 0;\n",
              "      width: 32px;\n",
              "    }\n",
              "\n",
              "    .colab-df-convert:hover {\n",
              "      background-color: #E2EBFA;\n",
              "      box-shadow: 0px 1px 2px rgba(60, 64, 67, 0.3), 0px 1px 3px 1px rgba(60, 64, 67, 0.15);\n",
              "      fill: #174EA6;\n",
              "    }\n",
              "\n",
              "    [theme=dark] .colab-df-convert {\n",
              "      background-color: #3B4455;\n",
              "      fill: #D2E3FC;\n",
              "    }\n",
              "\n",
              "    [theme=dark] .colab-df-convert:hover {\n",
              "      background-color: #434B5C;\n",
              "      box-shadow: 0px 1px 3px 1px rgba(0, 0, 0, 0.15);\n",
              "      filter: drop-shadow(0px 1px 2px rgba(0, 0, 0, 0.3));\n",
              "      fill: #FFFFFF;\n",
              "    }\n",
              "  </style>\n",
              "\n",
              "      <script>\n",
              "        const buttonEl =\n",
              "          document.querySelector('#df-4c7ca8e3-5e69-4dba-99bb-076ab46b6143 button.colab-df-convert');\n",
              "        buttonEl.style.display =\n",
              "          google.colab.kernel.accessAllowed ? 'block' : 'none';\n",
              "\n",
              "        async function convertToInteractive(key) {\n",
              "          const element = document.querySelector('#df-4c7ca8e3-5e69-4dba-99bb-076ab46b6143');\n",
              "          const dataTable =\n",
              "            await google.colab.kernel.invokeFunction('convertToInteractive',\n",
              "                                                     [key], {});\n",
              "          if (!dataTable) return;\n",
              "\n",
              "          const docLinkHtml = 'Like what you see? Visit the ' +\n",
              "            '<a target=\"_blank\" href=https://colab.research.google.com/notebooks/data_table.ipynb>data table notebook</a>'\n",
              "            + ' to learn more about interactive tables.';\n",
              "          element.innerHTML = '';\n",
              "          dataTable['output_type'] = 'display_data';\n",
              "          await google.colab.output.renderOutput(dataTable, element);\n",
              "          const docLink = document.createElement('div');\n",
              "          docLink.innerHTML = docLinkHtml;\n",
              "          element.appendChild(docLink);\n",
              "        }\n",
              "      </script>\n",
              "    </div>\n",
              "  </div>\n",
              "  "
            ]
          },
          "metadata": {},
          "execution_count": 30
        }
      ]
    },
    {
      "cell_type": "markdown",
      "source": [
        "### Data prep news data"
      ],
      "metadata": {
        "id": "BQlK6aR153Vx"
      }
    },
    {
      "cell_type": "code",
      "source": [
        "news_data.head()"
      ],
      "metadata": {
        "colab": {
          "base_uri": "https://localhost:8080/",
          "height": 206
        },
        "id": "SYwxvU-I7Upv",
        "outputId": "45db4eb9-8d85-4b0f-e44e-55fb7d42f21a"
      },
      "execution_count": null,
      "outputs": [
        {
          "output_type": "execute_result",
          "data": {
            "text/plain": [
              "                           Date  \\\n",
              "publish_date  headline_category   \n",
              "20010102                unknown   \n",
              "20010102                unknown   \n",
              "20010102                unknown   \n",
              "20010102                unknown   \n",
              "\n",
              "                                                           News  \n",
              "publish_date                                      headline_text  \n",
              "20010102      Status quo will not be disturbed at Ayodhya; s...  \n",
              "20010102                    Fissures in Hurriyat over Pak visit  \n",
              "20010102                  America's unwanted heading for India?  \n",
              "20010102                     For bigwigs; it is destination Goa  "
            ],
            "text/html": [
              "\n",
              "  <div id=\"df-c4ecf74a-46d1-41df-a473-004824a38e9f\">\n",
              "    <div class=\"colab-df-container\">\n",
              "      <div>\n",
              "<style scoped>\n",
              "    .dataframe tbody tr th:only-of-type {\n",
              "        vertical-align: middle;\n",
              "    }\n",
              "\n",
              "    .dataframe tbody tr th {\n",
              "        vertical-align: top;\n",
              "    }\n",
              "\n",
              "    .dataframe thead th {\n",
              "        text-align: right;\n",
              "    }\n",
              "</style>\n",
              "<table border=\"1\" class=\"dataframe\">\n",
              "  <thead>\n",
              "    <tr style=\"text-align: right;\">\n",
              "      <th></th>\n",
              "      <th>Date</th>\n",
              "      <th>News</th>\n",
              "    </tr>\n",
              "  </thead>\n",
              "  <tbody>\n",
              "    <tr>\n",
              "      <th>publish_date</th>\n",
              "      <td>headline_category</td>\n",
              "      <td>headline_text</td>\n",
              "    </tr>\n",
              "    <tr>\n",
              "      <th>20010102</th>\n",
              "      <td>unknown</td>\n",
              "      <td>Status quo will not be disturbed at Ayodhya; s...</td>\n",
              "    </tr>\n",
              "    <tr>\n",
              "      <th>20010102</th>\n",
              "      <td>unknown</td>\n",
              "      <td>Fissures in Hurriyat over Pak visit</td>\n",
              "    </tr>\n",
              "    <tr>\n",
              "      <th>20010102</th>\n",
              "      <td>unknown</td>\n",
              "      <td>America's unwanted heading for India?</td>\n",
              "    </tr>\n",
              "    <tr>\n",
              "      <th>20010102</th>\n",
              "      <td>unknown</td>\n",
              "      <td>For bigwigs; it is destination Goa</td>\n",
              "    </tr>\n",
              "  </tbody>\n",
              "</table>\n",
              "</div>\n",
              "      <button class=\"colab-df-convert\" onclick=\"convertToInteractive('df-c4ecf74a-46d1-41df-a473-004824a38e9f')\"\n",
              "              title=\"Convert this dataframe to an interactive table.\"\n",
              "              style=\"display:none;\">\n",
              "        \n",
              "  <svg xmlns=\"http://www.w3.org/2000/svg\" height=\"24px\"viewBox=\"0 0 24 24\"\n",
              "       width=\"24px\">\n",
              "    <path d=\"M0 0h24v24H0V0z\" fill=\"none\"/>\n",
              "    <path d=\"M18.56 5.44l.94 2.06.94-2.06 2.06-.94-2.06-.94-.94-2.06-.94 2.06-2.06.94zm-11 1L8.5 8.5l.94-2.06 2.06-.94-2.06-.94L8.5 2.5l-.94 2.06-2.06.94zm10 10l.94 2.06.94-2.06 2.06-.94-2.06-.94-.94-2.06-.94 2.06-2.06.94z\"/><path d=\"M17.41 7.96l-1.37-1.37c-.4-.4-.92-.59-1.43-.59-.52 0-1.04.2-1.43.59L10.3 9.45l-7.72 7.72c-.78.78-.78 2.05 0 2.83L4 21.41c.39.39.9.59 1.41.59.51 0 1.02-.2 1.41-.59l7.78-7.78 2.81-2.81c.8-.78.8-2.07 0-2.86zM5.41 20L4 18.59l7.72-7.72 1.47 1.35L5.41 20z\"/>\n",
              "  </svg>\n",
              "      </button>\n",
              "      \n",
              "  <style>\n",
              "    .colab-df-container {\n",
              "      display:flex;\n",
              "      flex-wrap:wrap;\n",
              "      gap: 12px;\n",
              "    }\n",
              "\n",
              "    .colab-df-convert {\n",
              "      background-color: #E8F0FE;\n",
              "      border: none;\n",
              "      border-radius: 50%;\n",
              "      cursor: pointer;\n",
              "      display: none;\n",
              "      fill: #1967D2;\n",
              "      height: 32px;\n",
              "      padding: 0 0 0 0;\n",
              "      width: 32px;\n",
              "    }\n",
              "\n",
              "    .colab-df-convert:hover {\n",
              "      background-color: #E2EBFA;\n",
              "      box-shadow: 0px 1px 2px rgba(60, 64, 67, 0.3), 0px 1px 3px 1px rgba(60, 64, 67, 0.15);\n",
              "      fill: #174EA6;\n",
              "    }\n",
              "\n",
              "    [theme=dark] .colab-df-convert {\n",
              "      background-color: #3B4455;\n",
              "      fill: #D2E3FC;\n",
              "    }\n",
              "\n",
              "    [theme=dark] .colab-df-convert:hover {\n",
              "      background-color: #434B5C;\n",
              "      box-shadow: 0px 1px 3px 1px rgba(0, 0, 0, 0.15);\n",
              "      filter: drop-shadow(0px 1px 2px rgba(0, 0, 0, 0.3));\n",
              "      fill: #FFFFFF;\n",
              "    }\n",
              "  </style>\n",
              "\n",
              "      <script>\n",
              "        const buttonEl =\n",
              "          document.querySelector('#df-c4ecf74a-46d1-41df-a473-004824a38e9f button.colab-df-convert');\n",
              "        buttonEl.style.display =\n",
              "          google.colab.kernel.accessAllowed ? 'block' : 'none';\n",
              "\n",
              "        async function convertToInteractive(key) {\n",
              "          const element = document.querySelector('#df-c4ecf74a-46d1-41df-a473-004824a38e9f');\n",
              "          const dataTable =\n",
              "            await google.colab.kernel.invokeFunction('convertToInteractive',\n",
              "                                                     [key], {});\n",
              "          if (!dataTable) return;\n",
              "\n",
              "          const docLinkHtml = 'Like what you see? Visit the ' +\n",
              "            '<a target=\"_blank\" href=https://colab.research.google.com/notebooks/data_table.ipynb>data table notebook</a>'\n",
              "            + ' to learn more about interactive tables.';\n",
              "          element.innerHTML = '';\n",
              "          dataTable['output_type'] = 'display_data';\n",
              "          await google.colab.output.renderOutput(dataTable, element);\n",
              "          const docLink = document.createElement('div');\n",
              "          docLink.innerHTML = docLinkHtml;\n",
              "          element.appendChild(docLink);\n",
              "        }\n",
              "      </script>\n",
              "    </div>\n",
              "  </div>\n",
              "  "
            ]
          },
          "metadata": {},
          "execution_count": 31
        }
      ]
    },
    {
      "cell_type": "code",
      "source": [
        "news=news_data['News'].iloc[1:].values"
      ],
      "metadata": {
        "id": "gBGWAJPV6l3b"
      },
      "execution_count": null,
      "outputs": []
    },
    {
      "cell_type": "code",
      "source": [
        "dates=news_data.index[1:].values"
      ],
      "metadata": {
        "id": "oDbN5_CG7aEb"
      },
      "execution_count": null,
      "outputs": []
    },
    {
      "cell_type": "code",
      "source": [
        "news_data=pd.DataFrame(data={'date':dates,'news':news})"
      ],
      "metadata": {
        "id": "krjFa2lK8vg0"
      },
      "execution_count": null,
      "outputs": []
    },
    {
      "cell_type": "code",
      "source": [
        "news_data.head()"
      ],
      "metadata": {
        "colab": {
          "base_uri": "https://localhost:8080/",
          "height": 206
        },
        "id": "WszB3Zoc9KKu",
        "outputId": "012c0817-4069-49f0-ab20-a8e42e7afe7d"
      },
      "execution_count": null,
      "outputs": [
        {
          "output_type": "execute_result",
          "data": {
            "text/plain": [
              "       date                                               news\n",
              "0  20010102  Status quo will not be disturbed at Ayodhya; s...\n",
              "1  20010102                Fissures in Hurriyat over Pak visit\n",
              "2  20010102              America's unwanted heading for India?\n",
              "3  20010102                 For bigwigs; it is destination Goa\n",
              "4  20010102               Extra buses to clear tourist traffic"
            ],
            "text/html": [
              "\n",
              "  <div id=\"df-f5ca9f2f-0ba2-4c7b-876f-0643ecafbe96\">\n",
              "    <div class=\"colab-df-container\">\n",
              "      <div>\n",
              "<style scoped>\n",
              "    .dataframe tbody tr th:only-of-type {\n",
              "        vertical-align: middle;\n",
              "    }\n",
              "\n",
              "    .dataframe tbody tr th {\n",
              "        vertical-align: top;\n",
              "    }\n",
              "\n",
              "    .dataframe thead th {\n",
              "        text-align: right;\n",
              "    }\n",
              "</style>\n",
              "<table border=\"1\" class=\"dataframe\">\n",
              "  <thead>\n",
              "    <tr style=\"text-align: right;\">\n",
              "      <th></th>\n",
              "      <th>date</th>\n",
              "      <th>news</th>\n",
              "    </tr>\n",
              "  </thead>\n",
              "  <tbody>\n",
              "    <tr>\n",
              "      <th>0</th>\n",
              "      <td>20010102</td>\n",
              "      <td>Status quo will not be disturbed at Ayodhya; s...</td>\n",
              "    </tr>\n",
              "    <tr>\n",
              "      <th>1</th>\n",
              "      <td>20010102</td>\n",
              "      <td>Fissures in Hurriyat over Pak visit</td>\n",
              "    </tr>\n",
              "    <tr>\n",
              "      <th>2</th>\n",
              "      <td>20010102</td>\n",
              "      <td>America's unwanted heading for India?</td>\n",
              "    </tr>\n",
              "    <tr>\n",
              "      <th>3</th>\n",
              "      <td>20010102</td>\n",
              "      <td>For bigwigs; it is destination Goa</td>\n",
              "    </tr>\n",
              "    <tr>\n",
              "      <th>4</th>\n",
              "      <td>20010102</td>\n",
              "      <td>Extra buses to clear tourist traffic</td>\n",
              "    </tr>\n",
              "  </tbody>\n",
              "</table>\n",
              "</div>\n",
              "      <button class=\"colab-df-convert\" onclick=\"convertToInteractive('df-f5ca9f2f-0ba2-4c7b-876f-0643ecafbe96')\"\n",
              "              title=\"Convert this dataframe to an interactive table.\"\n",
              "              style=\"display:none;\">\n",
              "        \n",
              "  <svg xmlns=\"http://www.w3.org/2000/svg\" height=\"24px\"viewBox=\"0 0 24 24\"\n",
              "       width=\"24px\">\n",
              "    <path d=\"M0 0h24v24H0V0z\" fill=\"none\"/>\n",
              "    <path d=\"M18.56 5.44l.94 2.06.94-2.06 2.06-.94-2.06-.94-.94-2.06-.94 2.06-2.06.94zm-11 1L8.5 8.5l.94-2.06 2.06-.94-2.06-.94L8.5 2.5l-.94 2.06-2.06.94zm10 10l.94 2.06.94-2.06 2.06-.94-2.06-.94-.94-2.06-.94 2.06-2.06.94z\"/><path d=\"M17.41 7.96l-1.37-1.37c-.4-.4-.92-.59-1.43-.59-.52 0-1.04.2-1.43.59L10.3 9.45l-7.72 7.72c-.78.78-.78 2.05 0 2.83L4 21.41c.39.39.9.59 1.41.59.51 0 1.02-.2 1.41-.59l7.78-7.78 2.81-2.81c.8-.78.8-2.07 0-2.86zM5.41 20L4 18.59l7.72-7.72 1.47 1.35L5.41 20z\"/>\n",
              "  </svg>\n",
              "      </button>\n",
              "      \n",
              "  <style>\n",
              "    .colab-df-container {\n",
              "      display:flex;\n",
              "      flex-wrap:wrap;\n",
              "      gap: 12px;\n",
              "    }\n",
              "\n",
              "    .colab-df-convert {\n",
              "      background-color: #E8F0FE;\n",
              "      border: none;\n",
              "      border-radius: 50%;\n",
              "      cursor: pointer;\n",
              "      display: none;\n",
              "      fill: #1967D2;\n",
              "      height: 32px;\n",
              "      padding: 0 0 0 0;\n",
              "      width: 32px;\n",
              "    }\n",
              "\n",
              "    .colab-df-convert:hover {\n",
              "      background-color: #E2EBFA;\n",
              "      box-shadow: 0px 1px 2px rgba(60, 64, 67, 0.3), 0px 1px 3px 1px rgba(60, 64, 67, 0.15);\n",
              "      fill: #174EA6;\n",
              "    }\n",
              "\n",
              "    [theme=dark] .colab-df-convert {\n",
              "      background-color: #3B4455;\n",
              "      fill: #D2E3FC;\n",
              "    }\n",
              "\n",
              "    [theme=dark] .colab-df-convert:hover {\n",
              "      background-color: #434B5C;\n",
              "      box-shadow: 0px 1px 3px 1px rgba(0, 0, 0, 0.15);\n",
              "      filter: drop-shadow(0px 1px 2px rgba(0, 0, 0, 0.3));\n",
              "      fill: #FFFFFF;\n",
              "    }\n",
              "  </style>\n",
              "\n",
              "      <script>\n",
              "        const buttonEl =\n",
              "          document.querySelector('#df-f5ca9f2f-0ba2-4c7b-876f-0643ecafbe96 button.colab-df-convert');\n",
              "        buttonEl.style.display =\n",
              "          google.colab.kernel.accessAllowed ? 'block' : 'none';\n",
              "\n",
              "        async function convertToInteractive(key) {\n",
              "          const element = document.querySelector('#df-f5ca9f2f-0ba2-4c7b-876f-0643ecafbe96');\n",
              "          const dataTable =\n",
              "            await google.colab.kernel.invokeFunction('convertToInteractive',\n",
              "                                                     [key], {});\n",
              "          if (!dataTable) return;\n",
              "\n",
              "          const docLinkHtml = 'Like what you see? Visit the ' +\n",
              "            '<a target=\"_blank\" href=https://colab.research.google.com/notebooks/data_table.ipynb>data table notebook</a>'\n",
              "            + ' to learn more about interactive tables.';\n",
              "          element.innerHTML = '';\n",
              "          dataTable['output_type'] = 'display_data';\n",
              "          await google.colab.output.renderOutput(dataTable, element);\n",
              "          const docLink = document.createElement('div');\n",
              "          docLink.innerHTML = docLinkHtml;\n",
              "          element.appendChild(docLink);\n",
              "        }\n",
              "      </script>\n",
              "    </div>\n",
              "  </div>\n",
              "  "
            ]
          },
          "metadata": {},
          "execution_count": 35
        }
      ]
    },
    {
      "cell_type": "code",
      "source": [
        "news_data.describe()"
      ],
      "metadata": {
        "colab": {
          "base_uri": "https://localhost:8080/",
          "height": 175
        },
        "id": "Yw00FLmp6bw1",
        "outputId": "53daa95b-345c-4907-ccb3-dde2572d7114"
      },
      "execution_count": null,
      "outputs": [
        {
          "output_type": "execute_result",
          "data": {
            "text/plain": [
              "            date              news\n",
              "count    3650970           3650970\n",
              "unique      7718           3387380\n",
              "top     20141215  Straight Answers\n",
              "freq         706              6723"
            ],
            "text/html": [
              "\n",
              "  <div id=\"df-f1ae8f11-da14-4741-b71a-935086c4bc28\">\n",
              "    <div class=\"colab-df-container\">\n",
              "      <div>\n",
              "<style scoped>\n",
              "    .dataframe tbody tr th:only-of-type {\n",
              "        vertical-align: middle;\n",
              "    }\n",
              "\n",
              "    .dataframe tbody tr th {\n",
              "        vertical-align: top;\n",
              "    }\n",
              "\n",
              "    .dataframe thead th {\n",
              "        text-align: right;\n",
              "    }\n",
              "</style>\n",
              "<table border=\"1\" class=\"dataframe\">\n",
              "  <thead>\n",
              "    <tr style=\"text-align: right;\">\n",
              "      <th></th>\n",
              "      <th>date</th>\n",
              "      <th>news</th>\n",
              "    </tr>\n",
              "  </thead>\n",
              "  <tbody>\n",
              "    <tr>\n",
              "      <th>count</th>\n",
              "      <td>3650970</td>\n",
              "      <td>3650970</td>\n",
              "    </tr>\n",
              "    <tr>\n",
              "      <th>unique</th>\n",
              "      <td>7718</td>\n",
              "      <td>3387380</td>\n",
              "    </tr>\n",
              "    <tr>\n",
              "      <th>top</th>\n",
              "      <td>20141215</td>\n",
              "      <td>Straight Answers</td>\n",
              "    </tr>\n",
              "    <tr>\n",
              "      <th>freq</th>\n",
              "      <td>706</td>\n",
              "      <td>6723</td>\n",
              "    </tr>\n",
              "  </tbody>\n",
              "</table>\n",
              "</div>\n",
              "      <button class=\"colab-df-convert\" onclick=\"convertToInteractive('df-f1ae8f11-da14-4741-b71a-935086c4bc28')\"\n",
              "              title=\"Convert this dataframe to an interactive table.\"\n",
              "              style=\"display:none;\">\n",
              "        \n",
              "  <svg xmlns=\"http://www.w3.org/2000/svg\" height=\"24px\"viewBox=\"0 0 24 24\"\n",
              "       width=\"24px\">\n",
              "    <path d=\"M0 0h24v24H0V0z\" fill=\"none\"/>\n",
              "    <path d=\"M18.56 5.44l.94 2.06.94-2.06 2.06-.94-2.06-.94-.94-2.06-.94 2.06-2.06.94zm-11 1L8.5 8.5l.94-2.06 2.06-.94-2.06-.94L8.5 2.5l-.94 2.06-2.06.94zm10 10l.94 2.06.94-2.06 2.06-.94-2.06-.94-.94-2.06-.94 2.06-2.06.94z\"/><path d=\"M17.41 7.96l-1.37-1.37c-.4-.4-.92-.59-1.43-.59-.52 0-1.04.2-1.43.59L10.3 9.45l-7.72 7.72c-.78.78-.78 2.05 0 2.83L4 21.41c.39.39.9.59 1.41.59.51 0 1.02-.2 1.41-.59l7.78-7.78 2.81-2.81c.8-.78.8-2.07 0-2.86zM5.41 20L4 18.59l7.72-7.72 1.47 1.35L5.41 20z\"/>\n",
              "  </svg>\n",
              "      </button>\n",
              "      \n",
              "  <style>\n",
              "    .colab-df-container {\n",
              "      display:flex;\n",
              "      flex-wrap:wrap;\n",
              "      gap: 12px;\n",
              "    }\n",
              "\n",
              "    .colab-df-convert {\n",
              "      background-color: #E8F0FE;\n",
              "      border: none;\n",
              "      border-radius: 50%;\n",
              "      cursor: pointer;\n",
              "      display: none;\n",
              "      fill: #1967D2;\n",
              "      height: 32px;\n",
              "      padding: 0 0 0 0;\n",
              "      width: 32px;\n",
              "    }\n",
              "\n",
              "    .colab-df-convert:hover {\n",
              "      background-color: #E2EBFA;\n",
              "      box-shadow: 0px 1px 2px rgba(60, 64, 67, 0.3), 0px 1px 3px 1px rgba(60, 64, 67, 0.15);\n",
              "      fill: #174EA6;\n",
              "    }\n",
              "\n",
              "    [theme=dark] .colab-df-convert {\n",
              "      background-color: #3B4455;\n",
              "      fill: #D2E3FC;\n",
              "    }\n",
              "\n",
              "    [theme=dark] .colab-df-convert:hover {\n",
              "      background-color: #434B5C;\n",
              "      box-shadow: 0px 1px 3px 1px rgba(0, 0, 0, 0.15);\n",
              "      filter: drop-shadow(0px 1px 2px rgba(0, 0, 0, 0.3));\n",
              "      fill: #FFFFFF;\n",
              "    }\n",
              "  </style>\n",
              "\n",
              "      <script>\n",
              "        const buttonEl =\n",
              "          document.querySelector('#df-f1ae8f11-da14-4741-b71a-935086c4bc28 button.colab-df-convert');\n",
              "        buttonEl.style.display =\n",
              "          google.colab.kernel.accessAllowed ? 'block' : 'none';\n",
              "\n",
              "        async function convertToInteractive(key) {\n",
              "          const element = document.querySelector('#df-f1ae8f11-da14-4741-b71a-935086c4bc28');\n",
              "          const dataTable =\n",
              "            await google.colab.kernel.invokeFunction('convertToInteractive',\n",
              "                                                     [key], {});\n",
              "          if (!dataTable) return;\n",
              "\n",
              "          const docLinkHtml = 'Like what you see? Visit the ' +\n",
              "            '<a target=\"_blank\" href=https://colab.research.google.com/notebooks/data_table.ipynb>data table notebook</a>'\n",
              "            + ' to learn more about interactive tables.';\n",
              "          element.innerHTML = '';\n",
              "          dataTable['output_type'] = 'display_data';\n",
              "          await google.colab.output.renderOutput(dataTable, element);\n",
              "          const docLink = document.createElement('div');\n",
              "          docLink.innerHTML = docLinkHtml;\n",
              "          element.appendChild(docLink);\n",
              "        }\n",
              "      </script>\n",
              "    </div>\n",
              "  </div>\n",
              "  "
            ]
          },
          "metadata": {},
          "execution_count": 36
        }
      ]
    },
    {
      "cell_type": "code",
      "source": [
        "news_data.info()"
      ],
      "metadata": {
        "colab": {
          "base_uri": "https://localhost:8080/"
        },
        "id": "BQYJvlfR6wW-",
        "outputId": "9b6c7f2a-f0a5-47ad-8dc5-d42b10a2cb5c"
      },
      "execution_count": null,
      "outputs": [
        {
          "output_type": "stream",
          "name": "stdout",
          "text": [
            "<class 'pandas.core.frame.DataFrame'>\n",
            "RangeIndex: 3650970 entries, 0 to 3650969\n",
            "Data columns (total 2 columns):\n",
            " #   Column  Dtype \n",
            "---  ------  ----- \n",
            " 0   date    object\n",
            " 1   news    object\n",
            "dtypes: object(2)\n",
            "memory usage: 55.7+ MB\n"
          ]
        }
      ]
    },
    {
      "cell_type": "code",
      "source": [
        "news_data.isnull().sum()"
      ],
      "metadata": {
        "colab": {
          "base_uri": "https://localhost:8080/"
        },
        "id": "iXhEWuAy9TJU",
        "outputId": "8110c100-c094-4565-f2b7-d4db9def778d"
      },
      "execution_count": null,
      "outputs": [
        {
          "output_type": "execute_result",
          "data": {
            "text/plain": [
              "date    0\n",
              "news    0\n",
              "dtype: int64"
            ]
          },
          "metadata": {},
          "execution_count": 38
        }
      ]
    },
    {
      "cell_type": "code",
      "source": [
        "news_data.duplicated().sum()"
      ],
      "metadata": {
        "colab": {
          "base_uri": "https://localhost:8080/"
        },
        "id": "jYyY72x37TX_",
        "outputId": "3cc32577-28cf-418a-c3d1-6be343348de3"
      },
      "execution_count": null,
      "outputs": [
        {
          "output_type": "execute_result",
          "data": {
            "text/plain": [
              "162098"
            ]
          },
          "metadata": {},
          "execution_count": 39
        }
      ]
    },
    {
      "cell_type": "code",
      "source": [
        "# drop duplicated data\n",
        "news_data.drop_duplicates(keep='first', inplace=True, ignore_index=True)"
      ],
      "metadata": {
        "id": "nLaMYdh9-k5Q"
      },
      "execution_count": null,
      "outputs": []
    },
    {
      "cell_type": "code",
      "source": [
        "news_data.duplicated().sum()"
      ],
      "metadata": {
        "colab": {
          "base_uri": "https://localhost:8080/"
        },
        "id": "eaggSo7y-ujK",
        "outputId": "44f8a80e-4c63-4f51-ed6e-730508e1e10b"
      },
      "execution_count": null,
      "outputs": [
        {
          "output_type": "execute_result",
          "data": {
            "text/plain": [
              "0"
            ]
          },
          "metadata": {},
          "execution_count": 41
        }
      ]
    },
    {
      "cell_type": "code",
      "source": [
        "news_data['date'] = pd.to_numeric(news_data['date'])"
      ],
      "metadata": {
        "id": "R8b6vA4VDnB4"
      },
      "execution_count": null,
      "outputs": []
    },
    {
      "cell_type": "code",
      "source": [
        "# drop news before 2021-10-01\n",
        "news_data.drop(news_data[news_data['date']<20211001].index,inplace=True)"
      ],
      "metadata": {
        "id": "H7cRzNtXDCAS"
      },
      "execution_count": null,
      "outputs": []
    },
    {
      "cell_type": "code",
      "source": [
        "# dropping data messes up indexes\n",
        "news_data.reset_index(inplace = True, drop = True)"
      ],
      "metadata": {
        "id": "fR6jPHv7_OzN"
      },
      "execution_count": null,
      "outputs": []
    },
    {
      "cell_type": "code",
      "source": [
        "len(news_data)"
      ],
      "metadata": {
        "colab": {
          "base_uri": "https://localhost:8080/"
        },
        "id": "azR69hJOD8dB",
        "outputId": "ad7f8540-ca13-42cc-c7f6-823a06450c06"
      },
      "execution_count": null,
      "outputs": [
        {
          "output_type": "execute_result",
          "data": {
            "text/plain": [
              "87701"
            ]
          },
          "metadata": {},
          "execution_count": 45
        }
      ]
    },
    {
      "cell_type": "markdown",
      "source": [
        "### Data prep yahoo finance data"
      ],
      "metadata": {
        "id": "6Sn7FCji-8pk"
      }
    },
    {
      "cell_type": "code",
      "source": [
        "past_data.info()"
      ],
      "metadata": {
        "colab": {
          "base_uri": "https://localhost:8080/"
        },
        "id": "qHn8qmOO_x7u",
        "outputId": "0d8c80e6-5e5e-4c13-925a-0d0e3028c885"
      },
      "execution_count": null,
      "outputs": [
        {
          "output_type": "stream",
          "name": "stdout",
          "text": [
            "<class 'pandas.core.frame.DataFrame'>\n",
            "DatetimeIndex: 63 entries, 2021-10-01 to 2021-12-31\n",
            "Data columns (total 6 columns):\n",
            " #   Column     Non-Null Count  Dtype  \n",
            "---  ------     --------------  -----  \n",
            " 0   Open       63 non-null     float64\n",
            " 1   High       63 non-null     float64\n",
            " 2   Low        63 non-null     float64\n",
            " 3   Close      63 non-null     float64\n",
            " 4   Adj Close  63 non-null     float64\n",
            " 5   Volume     63 non-null     int64  \n",
            "dtypes: float64(5), int64(1)\n",
            "memory usage: 3.4 KB\n"
          ]
        }
      ]
    },
    {
      "cell_type": "code",
      "source": [
        "past_data.reset_index(inplace=True)"
      ],
      "metadata": {
        "id": "BIK6VwFKAdPW"
      },
      "execution_count": null,
      "outputs": []
    },
    {
      "cell_type": "code",
      "source": [
        "past_data.rename(columns={\n",
        "      'Date':'date',\n",
        "      'Open': 'open',\n",
        "      'High': 'high',\n",
        "      'Low': 'low',\n",
        "      'Close': 'close',\n",
        "      'Adj Close': 'adjclose',\n",
        "      'Volume': 'volume'},\n",
        "      inplace = True\n",
        ")"
      ],
      "metadata": {
        "id": "p51oeogj_rPL"
      },
      "execution_count": null,
      "outputs": []
    },
    {
      "cell_type": "code",
      "source": [
        "past_data.describe()"
      ],
      "metadata": {
        "colab": {
          "base_uri": "https://localhost:8080/",
          "height": 300
        },
        "id": "EP5GKP4R_sZ2",
        "outputId": "70e3d205-1cc7-447d-89da-152210e515c1"
      },
      "execution_count": null,
      "outputs": [
        {
          "output_type": "execute_result",
          "data": {
            "text/plain": [
              "               open          high           low         close      adjclose  \\\n",
              "count     63.000000     63.000000     63.000000     63.000000     63.000000   \n",
              "mean   59233.257564  59493.432602  58762.142981  59095.553447  59095.553447   \n",
              "std     1534.928686   1453.983828   1540.406671   1505.290274   1505.290274   \n",
              "min    56320.019531  56538.148438  55132.679688  55822.011719  55822.011719   \n",
              "25%    57938.128906  58236.519531  57660.949219  57800.404297  57800.404297   \n",
              "50%    59320.140625  59778.371094  58952.109375  59189.730469  59189.730469   \n",
              "75%    60327.935547  60557.830078  59956.109375  60303.339844  60303.339844   \n",
              "max    62156.480469  62245.429688  61624.648438  61765.589844  61765.589844   \n",
              "\n",
              "             volume  \n",
              "count     63.000000  \n",
              "mean    9368.253968  \n",
              "std     7131.299149  \n",
              "min     1800.000000  \n",
              "25%     6450.000000  \n",
              "50%     7600.000000  \n",
              "75%     9200.000000  \n",
              "max    48400.000000  "
            ],
            "text/html": [
              "\n",
              "  <div id=\"df-546b49ce-3a45-4634-ada1-9327443ac824\">\n",
              "    <div class=\"colab-df-container\">\n",
              "      <div>\n",
              "<style scoped>\n",
              "    .dataframe tbody tr th:only-of-type {\n",
              "        vertical-align: middle;\n",
              "    }\n",
              "\n",
              "    .dataframe tbody tr th {\n",
              "        vertical-align: top;\n",
              "    }\n",
              "\n",
              "    .dataframe thead th {\n",
              "        text-align: right;\n",
              "    }\n",
              "</style>\n",
              "<table border=\"1\" class=\"dataframe\">\n",
              "  <thead>\n",
              "    <tr style=\"text-align: right;\">\n",
              "      <th></th>\n",
              "      <th>open</th>\n",
              "      <th>high</th>\n",
              "      <th>low</th>\n",
              "      <th>close</th>\n",
              "      <th>adjclose</th>\n",
              "      <th>volume</th>\n",
              "    </tr>\n",
              "  </thead>\n",
              "  <tbody>\n",
              "    <tr>\n",
              "      <th>count</th>\n",
              "      <td>63.000000</td>\n",
              "      <td>63.000000</td>\n",
              "      <td>63.000000</td>\n",
              "      <td>63.000000</td>\n",
              "      <td>63.000000</td>\n",
              "      <td>63.000000</td>\n",
              "    </tr>\n",
              "    <tr>\n",
              "      <th>mean</th>\n",
              "      <td>59233.257564</td>\n",
              "      <td>59493.432602</td>\n",
              "      <td>58762.142981</td>\n",
              "      <td>59095.553447</td>\n",
              "      <td>59095.553447</td>\n",
              "      <td>9368.253968</td>\n",
              "    </tr>\n",
              "    <tr>\n",
              "      <th>std</th>\n",
              "      <td>1534.928686</td>\n",
              "      <td>1453.983828</td>\n",
              "      <td>1540.406671</td>\n",
              "      <td>1505.290274</td>\n",
              "      <td>1505.290274</td>\n",
              "      <td>7131.299149</td>\n",
              "    </tr>\n",
              "    <tr>\n",
              "      <th>min</th>\n",
              "      <td>56320.019531</td>\n",
              "      <td>56538.148438</td>\n",
              "      <td>55132.679688</td>\n",
              "      <td>55822.011719</td>\n",
              "      <td>55822.011719</td>\n",
              "      <td>1800.000000</td>\n",
              "    </tr>\n",
              "    <tr>\n",
              "      <th>25%</th>\n",
              "      <td>57938.128906</td>\n",
              "      <td>58236.519531</td>\n",
              "      <td>57660.949219</td>\n",
              "      <td>57800.404297</td>\n",
              "      <td>57800.404297</td>\n",
              "      <td>6450.000000</td>\n",
              "    </tr>\n",
              "    <tr>\n",
              "      <th>50%</th>\n",
              "      <td>59320.140625</td>\n",
              "      <td>59778.371094</td>\n",
              "      <td>58952.109375</td>\n",
              "      <td>59189.730469</td>\n",
              "      <td>59189.730469</td>\n",
              "      <td>7600.000000</td>\n",
              "    </tr>\n",
              "    <tr>\n",
              "      <th>75%</th>\n",
              "      <td>60327.935547</td>\n",
              "      <td>60557.830078</td>\n",
              "      <td>59956.109375</td>\n",
              "      <td>60303.339844</td>\n",
              "      <td>60303.339844</td>\n",
              "      <td>9200.000000</td>\n",
              "    </tr>\n",
              "    <tr>\n",
              "      <th>max</th>\n",
              "      <td>62156.480469</td>\n",
              "      <td>62245.429688</td>\n",
              "      <td>61624.648438</td>\n",
              "      <td>61765.589844</td>\n",
              "      <td>61765.589844</td>\n",
              "      <td>48400.000000</td>\n",
              "    </tr>\n",
              "  </tbody>\n",
              "</table>\n",
              "</div>\n",
              "      <button class=\"colab-df-convert\" onclick=\"convertToInteractive('df-546b49ce-3a45-4634-ada1-9327443ac824')\"\n",
              "              title=\"Convert this dataframe to an interactive table.\"\n",
              "              style=\"display:none;\">\n",
              "        \n",
              "  <svg xmlns=\"http://www.w3.org/2000/svg\" height=\"24px\"viewBox=\"0 0 24 24\"\n",
              "       width=\"24px\">\n",
              "    <path d=\"M0 0h24v24H0V0z\" fill=\"none\"/>\n",
              "    <path d=\"M18.56 5.44l.94 2.06.94-2.06 2.06-.94-2.06-.94-.94-2.06-.94 2.06-2.06.94zm-11 1L8.5 8.5l.94-2.06 2.06-.94-2.06-.94L8.5 2.5l-.94 2.06-2.06.94zm10 10l.94 2.06.94-2.06 2.06-.94-2.06-.94-.94-2.06-.94 2.06-2.06.94z\"/><path d=\"M17.41 7.96l-1.37-1.37c-.4-.4-.92-.59-1.43-.59-.52 0-1.04.2-1.43.59L10.3 9.45l-7.72 7.72c-.78.78-.78 2.05 0 2.83L4 21.41c.39.39.9.59 1.41.59.51 0 1.02-.2 1.41-.59l7.78-7.78 2.81-2.81c.8-.78.8-2.07 0-2.86zM5.41 20L4 18.59l7.72-7.72 1.47 1.35L5.41 20z\"/>\n",
              "  </svg>\n",
              "      </button>\n",
              "      \n",
              "  <style>\n",
              "    .colab-df-container {\n",
              "      display:flex;\n",
              "      flex-wrap:wrap;\n",
              "      gap: 12px;\n",
              "    }\n",
              "\n",
              "    .colab-df-convert {\n",
              "      background-color: #E8F0FE;\n",
              "      border: none;\n",
              "      border-radius: 50%;\n",
              "      cursor: pointer;\n",
              "      display: none;\n",
              "      fill: #1967D2;\n",
              "      height: 32px;\n",
              "      padding: 0 0 0 0;\n",
              "      width: 32px;\n",
              "    }\n",
              "\n",
              "    .colab-df-convert:hover {\n",
              "      background-color: #E2EBFA;\n",
              "      box-shadow: 0px 1px 2px rgba(60, 64, 67, 0.3), 0px 1px 3px 1px rgba(60, 64, 67, 0.15);\n",
              "      fill: #174EA6;\n",
              "    }\n",
              "\n",
              "    [theme=dark] .colab-df-convert {\n",
              "      background-color: #3B4455;\n",
              "      fill: #D2E3FC;\n",
              "    }\n",
              "\n",
              "    [theme=dark] .colab-df-convert:hover {\n",
              "      background-color: #434B5C;\n",
              "      box-shadow: 0px 1px 3px 1px rgba(0, 0, 0, 0.15);\n",
              "      filter: drop-shadow(0px 1px 2px rgba(0, 0, 0, 0.3));\n",
              "      fill: #FFFFFF;\n",
              "    }\n",
              "  </style>\n",
              "\n",
              "      <script>\n",
              "        const buttonEl =\n",
              "          document.querySelector('#df-546b49ce-3a45-4634-ada1-9327443ac824 button.colab-df-convert');\n",
              "        buttonEl.style.display =\n",
              "          google.colab.kernel.accessAllowed ? 'block' : 'none';\n",
              "\n",
              "        async function convertToInteractive(key) {\n",
              "          const element = document.querySelector('#df-546b49ce-3a45-4634-ada1-9327443ac824');\n",
              "          const dataTable =\n",
              "            await google.colab.kernel.invokeFunction('convertToInteractive',\n",
              "                                                     [key], {});\n",
              "          if (!dataTable) return;\n",
              "\n",
              "          const docLinkHtml = 'Like what you see? Visit the ' +\n",
              "            '<a target=\"_blank\" href=https://colab.research.google.com/notebooks/data_table.ipynb>data table notebook</a>'\n",
              "            + ' to learn more about interactive tables.';\n",
              "          element.innerHTML = '';\n",
              "          dataTable['output_type'] = 'display_data';\n",
              "          await google.colab.output.renderOutput(dataTable, element);\n",
              "          const docLink = document.createElement('div');\n",
              "          docLink.innerHTML = docLinkHtml;\n",
              "          element.appendChild(docLink);\n",
              "        }\n",
              "      </script>\n",
              "    </div>\n",
              "  </div>\n",
              "  "
            ]
          },
          "metadata": {},
          "execution_count": 49
        }
      ]
    },
    {
      "cell_type": "code",
      "source": [
        "past_data.date=past_data.date.dt.strftime('%Y%m%d').astype(int)"
      ],
      "metadata": {
        "id": "tT4GtejtAxx_"
      },
      "execution_count": null,
      "outputs": []
    },
    {
      "cell_type": "code",
      "source": [
        "past_data"
      ],
      "metadata": {
        "colab": {
          "base_uri": "https://localhost:8080/",
          "height": 424
        },
        "id": "WJHqHPpABLjx",
        "outputId": "f72aedbe-64b9-4c9e-b601-78a4b08d87a0"
      },
      "execution_count": null,
      "outputs": [
        {
          "output_type": "execute_result",
          "data": {
            "text/plain": [
              "        date          open          high           low         close  \\\n",
              "0   20211001  58889.769531  58890.078125  58551.140625  58765.578125   \n",
              "1   20211004  59143.000000  59548.820312  58952.109375  59299.320312   \n",
              "2   20211005  59320.140625  59778.871094  59127.039062  59744.878906   \n",
              "3   20211006  59942.000000  59963.570312  59079.859375  59189.730469   \n",
              "4   20211007  59632.808594  59914.910156  59597.058594  59677.828125   \n",
              "..       ...           ...           ...           ...           ...   \n",
              "58  20211227  56948.328125  57512.011719  56543.078125  57420.238281   \n",
              "59  20211228  57751.210938  57952.480469  57650.289062  57897.480469   \n",
              "60  20211229  57892.308594  58097.070312  57684.578125  57806.488281   \n",
              "61  20211230  57755.398438  58010.031250  57578.988281  57794.320312   \n",
              "62  20211231  57849.761719  58409.300781  57846.519531  58253.820312   \n",
              "\n",
              "        adjclose  volume  \n",
              "0   58765.578125   10200  \n",
              "1   59299.320312   10000  \n",
              "2   59744.878906   12900  \n",
              "3   59189.730469    7000  \n",
              "4   59677.828125    5700  \n",
              "..           ...     ...  \n",
              "58  57420.238281    5700  \n",
              "59  57897.480469    5500  \n",
              "60  57806.488281    5300  \n",
              "61  57794.320312    7300  \n",
              "62  58253.820312    7000  \n",
              "\n",
              "[63 rows x 7 columns]"
            ],
            "text/html": [
              "\n",
              "  <div id=\"df-687e824f-fc31-4924-8901-21361064877c\">\n",
              "    <div class=\"colab-df-container\">\n",
              "      <div>\n",
              "<style scoped>\n",
              "    .dataframe tbody tr th:only-of-type {\n",
              "        vertical-align: middle;\n",
              "    }\n",
              "\n",
              "    .dataframe tbody tr th {\n",
              "        vertical-align: top;\n",
              "    }\n",
              "\n",
              "    .dataframe thead th {\n",
              "        text-align: right;\n",
              "    }\n",
              "</style>\n",
              "<table border=\"1\" class=\"dataframe\">\n",
              "  <thead>\n",
              "    <tr style=\"text-align: right;\">\n",
              "      <th></th>\n",
              "      <th>date</th>\n",
              "      <th>open</th>\n",
              "      <th>high</th>\n",
              "      <th>low</th>\n",
              "      <th>close</th>\n",
              "      <th>adjclose</th>\n",
              "      <th>volume</th>\n",
              "    </tr>\n",
              "  </thead>\n",
              "  <tbody>\n",
              "    <tr>\n",
              "      <th>0</th>\n",
              "      <td>20211001</td>\n",
              "      <td>58889.769531</td>\n",
              "      <td>58890.078125</td>\n",
              "      <td>58551.140625</td>\n",
              "      <td>58765.578125</td>\n",
              "      <td>58765.578125</td>\n",
              "      <td>10200</td>\n",
              "    </tr>\n",
              "    <tr>\n",
              "      <th>1</th>\n",
              "      <td>20211004</td>\n",
              "      <td>59143.000000</td>\n",
              "      <td>59548.820312</td>\n",
              "      <td>58952.109375</td>\n",
              "      <td>59299.320312</td>\n",
              "      <td>59299.320312</td>\n",
              "      <td>10000</td>\n",
              "    </tr>\n",
              "    <tr>\n",
              "      <th>2</th>\n",
              "      <td>20211005</td>\n",
              "      <td>59320.140625</td>\n",
              "      <td>59778.871094</td>\n",
              "      <td>59127.039062</td>\n",
              "      <td>59744.878906</td>\n",
              "      <td>59744.878906</td>\n",
              "      <td>12900</td>\n",
              "    </tr>\n",
              "    <tr>\n",
              "      <th>3</th>\n",
              "      <td>20211006</td>\n",
              "      <td>59942.000000</td>\n",
              "      <td>59963.570312</td>\n",
              "      <td>59079.859375</td>\n",
              "      <td>59189.730469</td>\n",
              "      <td>59189.730469</td>\n",
              "      <td>7000</td>\n",
              "    </tr>\n",
              "    <tr>\n",
              "      <th>4</th>\n",
              "      <td>20211007</td>\n",
              "      <td>59632.808594</td>\n",
              "      <td>59914.910156</td>\n",
              "      <td>59597.058594</td>\n",
              "      <td>59677.828125</td>\n",
              "      <td>59677.828125</td>\n",
              "      <td>5700</td>\n",
              "    </tr>\n",
              "    <tr>\n",
              "      <th>...</th>\n",
              "      <td>...</td>\n",
              "      <td>...</td>\n",
              "      <td>...</td>\n",
              "      <td>...</td>\n",
              "      <td>...</td>\n",
              "      <td>...</td>\n",
              "      <td>...</td>\n",
              "    </tr>\n",
              "    <tr>\n",
              "      <th>58</th>\n",
              "      <td>20211227</td>\n",
              "      <td>56948.328125</td>\n",
              "      <td>57512.011719</td>\n",
              "      <td>56543.078125</td>\n",
              "      <td>57420.238281</td>\n",
              "      <td>57420.238281</td>\n",
              "      <td>5700</td>\n",
              "    </tr>\n",
              "    <tr>\n",
              "      <th>59</th>\n",
              "      <td>20211228</td>\n",
              "      <td>57751.210938</td>\n",
              "      <td>57952.480469</td>\n",
              "      <td>57650.289062</td>\n",
              "      <td>57897.480469</td>\n",
              "      <td>57897.480469</td>\n",
              "      <td>5500</td>\n",
              "    </tr>\n",
              "    <tr>\n",
              "      <th>60</th>\n",
              "      <td>20211229</td>\n",
              "      <td>57892.308594</td>\n",
              "      <td>58097.070312</td>\n",
              "      <td>57684.578125</td>\n",
              "      <td>57806.488281</td>\n",
              "      <td>57806.488281</td>\n",
              "      <td>5300</td>\n",
              "    </tr>\n",
              "    <tr>\n",
              "      <th>61</th>\n",
              "      <td>20211230</td>\n",
              "      <td>57755.398438</td>\n",
              "      <td>58010.031250</td>\n",
              "      <td>57578.988281</td>\n",
              "      <td>57794.320312</td>\n",
              "      <td>57794.320312</td>\n",
              "      <td>7300</td>\n",
              "    </tr>\n",
              "    <tr>\n",
              "      <th>62</th>\n",
              "      <td>20211231</td>\n",
              "      <td>57849.761719</td>\n",
              "      <td>58409.300781</td>\n",
              "      <td>57846.519531</td>\n",
              "      <td>58253.820312</td>\n",
              "      <td>58253.820312</td>\n",
              "      <td>7000</td>\n",
              "    </tr>\n",
              "  </tbody>\n",
              "</table>\n",
              "<p>63 rows × 7 columns</p>\n",
              "</div>\n",
              "      <button class=\"colab-df-convert\" onclick=\"convertToInteractive('df-687e824f-fc31-4924-8901-21361064877c')\"\n",
              "              title=\"Convert this dataframe to an interactive table.\"\n",
              "              style=\"display:none;\">\n",
              "        \n",
              "  <svg xmlns=\"http://www.w3.org/2000/svg\" height=\"24px\"viewBox=\"0 0 24 24\"\n",
              "       width=\"24px\">\n",
              "    <path d=\"M0 0h24v24H0V0z\" fill=\"none\"/>\n",
              "    <path d=\"M18.56 5.44l.94 2.06.94-2.06 2.06-.94-2.06-.94-.94-2.06-.94 2.06-2.06.94zm-11 1L8.5 8.5l.94-2.06 2.06-.94-2.06-.94L8.5 2.5l-.94 2.06-2.06.94zm10 10l.94 2.06.94-2.06 2.06-.94-2.06-.94-.94-2.06-.94 2.06-2.06.94z\"/><path d=\"M17.41 7.96l-1.37-1.37c-.4-.4-.92-.59-1.43-.59-.52 0-1.04.2-1.43.59L10.3 9.45l-7.72 7.72c-.78.78-.78 2.05 0 2.83L4 21.41c.39.39.9.59 1.41.59.51 0 1.02-.2 1.41-.59l7.78-7.78 2.81-2.81c.8-.78.8-2.07 0-2.86zM5.41 20L4 18.59l7.72-7.72 1.47 1.35L5.41 20z\"/>\n",
              "  </svg>\n",
              "      </button>\n",
              "      \n",
              "  <style>\n",
              "    .colab-df-container {\n",
              "      display:flex;\n",
              "      flex-wrap:wrap;\n",
              "      gap: 12px;\n",
              "    }\n",
              "\n",
              "    .colab-df-convert {\n",
              "      background-color: #E8F0FE;\n",
              "      border: none;\n",
              "      border-radius: 50%;\n",
              "      cursor: pointer;\n",
              "      display: none;\n",
              "      fill: #1967D2;\n",
              "      height: 32px;\n",
              "      padding: 0 0 0 0;\n",
              "      width: 32px;\n",
              "    }\n",
              "\n",
              "    .colab-df-convert:hover {\n",
              "      background-color: #E2EBFA;\n",
              "      box-shadow: 0px 1px 2px rgba(60, 64, 67, 0.3), 0px 1px 3px 1px rgba(60, 64, 67, 0.15);\n",
              "      fill: #174EA6;\n",
              "    }\n",
              "\n",
              "    [theme=dark] .colab-df-convert {\n",
              "      background-color: #3B4455;\n",
              "      fill: #D2E3FC;\n",
              "    }\n",
              "\n",
              "    [theme=dark] .colab-df-convert:hover {\n",
              "      background-color: #434B5C;\n",
              "      box-shadow: 0px 1px 3px 1px rgba(0, 0, 0, 0.15);\n",
              "      filter: drop-shadow(0px 1px 2px rgba(0, 0, 0, 0.3));\n",
              "      fill: #FFFFFF;\n",
              "    }\n",
              "  </style>\n",
              "\n",
              "      <script>\n",
              "        const buttonEl =\n",
              "          document.querySelector('#df-687e824f-fc31-4924-8901-21361064877c button.colab-df-convert');\n",
              "        buttonEl.style.display =\n",
              "          google.colab.kernel.accessAllowed ? 'block' : 'none';\n",
              "\n",
              "        async function convertToInteractive(key) {\n",
              "          const element = document.querySelector('#df-687e824f-fc31-4924-8901-21361064877c');\n",
              "          const dataTable =\n",
              "            await google.colab.kernel.invokeFunction('convertToInteractive',\n",
              "                                                     [key], {});\n",
              "          if (!dataTable) return;\n",
              "\n",
              "          const docLinkHtml = 'Like what you see? Visit the ' +\n",
              "            '<a target=\"_blank\" href=https://colab.research.google.com/notebooks/data_table.ipynb>data table notebook</a>'\n",
              "            + ' to learn more about interactive tables.';\n",
              "          element.innerHTML = '';\n",
              "          dataTable['output_type'] = 'display_data';\n",
              "          await google.colab.output.renderOutput(dataTable, element);\n",
              "          const docLink = document.createElement('div');\n",
              "          docLink.innerHTML = docLinkHtml;\n",
              "          element.appendChild(docLink);\n",
              "        }\n",
              "      </script>\n",
              "    </div>\n",
              "  </div>\n",
              "  "
            ]
          },
          "metadata": {},
          "execution_count": 51
        }
      ]
    },
    {
      "cell_type": "markdown",
      "source": [
        "## Perform Sentiment Analysis"
      ],
      "metadata": {
        "id": "uY7DVRWheqU6"
      }
    },
    {
      "cell_type": "code",
      "source": [
        "# stemming news headlines\n",
        "# this takes some time\n",
        "\n",
        "nltk.download('stopwords')\n",
        "ps = PorterStemmer()\n",
        "\n",
        "c = []\n",
        "stopwrds= set(stopwords.words('english'))\n",
        "for i in range(len(news_data['news'])):\n",
        "    news = re.sub('[^a-zA-Z]',' ',news_data['news'][i])\n",
        "    news = news.lower()\n",
        "    news = news.split()\n",
        "    news = [ps.stem(word) for word in news if not word in stopwrds]\n",
        "    news=' '.join(news)\n",
        "    c.append(news) "
      ],
      "metadata": {
        "id": "m1h202FWBVLQ",
        "colab": {
          "base_uri": "https://localhost:8080/"
        },
        "outputId": "ed2df2e4-4dd9-4145-b873-6d3c045ba84f"
      },
      "execution_count": null,
      "outputs": [
        {
          "output_type": "stream",
          "name": "stderr",
          "text": [
            "[nltk_data] Downloading package stopwords to /root/nltk_data...\n",
            "[nltk_data]   Unzipping corpora/stopwords.zip.\n"
          ]
        }
      ]
    },
    {
      "cell_type": "code",
      "source": [
        "news_data['news']=pd.Series(c)"
      ],
      "metadata": {
        "id": "j-YJeZwhEK0D"
      },
      "execution_count": null,
      "outputs": []
    },
    {
      "cell_type": "markdown",
      "source": [
        "### Subjectivity and Polarity\n",
        "\n",
        "We will use TextBlob for calculating them <br>Polarity > 0 means it's positive otherwise negative<br>Subjectivity quantifies how personal or factual it is, high subjectivity means it more of a personal opinion"
      ],
      "metadata": {
        "id": "WmAubQryGF-R"
      }
    },
    {
      "cell_type": "code",
      "source": [
        "from textblob import TextBlob\n",
        "\n",
        "# we will apply these functions to news_headlines\n",
        "def getSubjectivity(text):\n",
        "  return TextBlob(text).sentiment.subjectivity\n",
        "\n",
        "def getPolarity(text):\n",
        "  return  TextBlob(text).sentiment.polarity"
      ],
      "metadata": {
        "id": "40wCOoyuGpLi"
      },
      "execution_count": null,
      "outputs": []
    },
    {
      "cell_type": "code",
      "source": [
        "# Takes forever\n",
        "news_data['subjectivity'] = news_data['news'].apply(getSubjectivity)\n",
        "news_data['polarity'] = news_data['news'].apply(getPolarity)\n",
        "news_data.head()"
      ],
      "metadata": {
        "colab": {
          "base_uri": "https://localhost:8080/",
          "height": 206
        },
        "id": "s2IzPnhTH-Wi",
        "outputId": "7449e8d5-83bc-4c23-f5c9-b9d648a64bf8"
      },
      "execution_count": null,
      "outputs": [
        {
          "output_type": "execute_result",
          "data": {
            "text/plain": [
              "       date                                               news  subjectivity  \\\n",
              "0  20211001                dogecoin dark hors among cryptocurr          0.40   \n",
              "1  20211001         cop dhananjaya play childhood dream salaga          0.00   \n",
              "2  20211001                                 five oat dish love          0.60   \n",
              "3  20211001  horoscop today octob check astrolog predict ar...          0.00   \n",
              "4  20211001             durga puja committe opt low key celebr          0.65   \n",
              "\n",
              "   polarity  \n",
              "0     -0.15  \n",
              "1      0.00  \n",
              "2      0.50  \n",
              "3      0.00  \n",
              "4      0.00  "
            ],
            "text/html": [
              "\n",
              "  <div id=\"df-d0feb9aa-bd59-4bfc-b54a-58c4e39aed9d\">\n",
              "    <div class=\"colab-df-container\">\n",
              "      <div>\n",
              "<style scoped>\n",
              "    .dataframe tbody tr th:only-of-type {\n",
              "        vertical-align: middle;\n",
              "    }\n",
              "\n",
              "    .dataframe tbody tr th {\n",
              "        vertical-align: top;\n",
              "    }\n",
              "\n",
              "    .dataframe thead th {\n",
              "        text-align: right;\n",
              "    }\n",
              "</style>\n",
              "<table border=\"1\" class=\"dataframe\">\n",
              "  <thead>\n",
              "    <tr style=\"text-align: right;\">\n",
              "      <th></th>\n",
              "      <th>date</th>\n",
              "      <th>news</th>\n",
              "      <th>subjectivity</th>\n",
              "      <th>polarity</th>\n",
              "    </tr>\n",
              "  </thead>\n",
              "  <tbody>\n",
              "    <tr>\n",
              "      <th>0</th>\n",
              "      <td>20211001</td>\n",
              "      <td>dogecoin dark hors among cryptocurr</td>\n",
              "      <td>0.40</td>\n",
              "      <td>-0.15</td>\n",
              "    </tr>\n",
              "    <tr>\n",
              "      <th>1</th>\n",
              "      <td>20211001</td>\n",
              "      <td>cop dhananjaya play childhood dream salaga</td>\n",
              "      <td>0.00</td>\n",
              "      <td>0.00</td>\n",
              "    </tr>\n",
              "    <tr>\n",
              "      <th>2</th>\n",
              "      <td>20211001</td>\n",
              "      <td>five oat dish love</td>\n",
              "      <td>0.60</td>\n",
              "      <td>0.50</td>\n",
              "    </tr>\n",
              "    <tr>\n",
              "      <th>3</th>\n",
              "      <td>20211001</td>\n",
              "      <td>horoscop today octob check astrolog predict ar...</td>\n",
              "      <td>0.00</td>\n",
              "      <td>0.00</td>\n",
              "    </tr>\n",
              "    <tr>\n",
              "      <th>4</th>\n",
              "      <td>20211001</td>\n",
              "      <td>durga puja committe opt low key celebr</td>\n",
              "      <td>0.65</td>\n",
              "      <td>0.00</td>\n",
              "    </tr>\n",
              "  </tbody>\n",
              "</table>\n",
              "</div>\n",
              "      <button class=\"colab-df-convert\" onclick=\"convertToInteractive('df-d0feb9aa-bd59-4bfc-b54a-58c4e39aed9d')\"\n",
              "              title=\"Convert this dataframe to an interactive table.\"\n",
              "              style=\"display:none;\">\n",
              "        \n",
              "  <svg xmlns=\"http://www.w3.org/2000/svg\" height=\"24px\"viewBox=\"0 0 24 24\"\n",
              "       width=\"24px\">\n",
              "    <path d=\"M0 0h24v24H0V0z\" fill=\"none\"/>\n",
              "    <path d=\"M18.56 5.44l.94 2.06.94-2.06 2.06-.94-2.06-.94-.94-2.06-.94 2.06-2.06.94zm-11 1L8.5 8.5l.94-2.06 2.06-.94-2.06-.94L8.5 2.5l-.94 2.06-2.06.94zm10 10l.94 2.06.94-2.06 2.06-.94-2.06-.94-.94-2.06-.94 2.06-2.06.94z\"/><path d=\"M17.41 7.96l-1.37-1.37c-.4-.4-.92-.59-1.43-.59-.52 0-1.04.2-1.43.59L10.3 9.45l-7.72 7.72c-.78.78-.78 2.05 0 2.83L4 21.41c.39.39.9.59 1.41.59.51 0 1.02-.2 1.41-.59l7.78-7.78 2.81-2.81c.8-.78.8-2.07 0-2.86zM5.41 20L4 18.59l7.72-7.72 1.47 1.35L5.41 20z\"/>\n",
              "  </svg>\n",
              "      </button>\n",
              "      \n",
              "  <style>\n",
              "    .colab-df-container {\n",
              "      display:flex;\n",
              "      flex-wrap:wrap;\n",
              "      gap: 12px;\n",
              "    }\n",
              "\n",
              "    .colab-df-convert {\n",
              "      background-color: #E8F0FE;\n",
              "      border: none;\n",
              "      border-radius: 50%;\n",
              "      cursor: pointer;\n",
              "      display: none;\n",
              "      fill: #1967D2;\n",
              "      height: 32px;\n",
              "      padding: 0 0 0 0;\n",
              "      width: 32px;\n",
              "    }\n",
              "\n",
              "    .colab-df-convert:hover {\n",
              "      background-color: #E2EBFA;\n",
              "      box-shadow: 0px 1px 2px rgba(60, 64, 67, 0.3), 0px 1px 3px 1px rgba(60, 64, 67, 0.15);\n",
              "      fill: #174EA6;\n",
              "    }\n",
              "\n",
              "    [theme=dark] .colab-df-convert {\n",
              "      background-color: #3B4455;\n",
              "      fill: #D2E3FC;\n",
              "    }\n",
              "\n",
              "    [theme=dark] .colab-df-convert:hover {\n",
              "      background-color: #434B5C;\n",
              "      box-shadow: 0px 1px 3px 1px rgba(0, 0, 0, 0.15);\n",
              "      filter: drop-shadow(0px 1px 2px rgba(0, 0, 0, 0.3));\n",
              "      fill: #FFFFFF;\n",
              "    }\n",
              "  </style>\n",
              "\n",
              "      <script>\n",
              "        const buttonEl =\n",
              "          document.querySelector('#df-d0feb9aa-bd59-4bfc-b54a-58c4e39aed9d button.colab-df-convert');\n",
              "        buttonEl.style.display =\n",
              "          google.colab.kernel.accessAllowed ? 'block' : 'none';\n",
              "\n",
              "        async function convertToInteractive(key) {\n",
              "          const element = document.querySelector('#df-d0feb9aa-bd59-4bfc-b54a-58c4e39aed9d');\n",
              "          const dataTable =\n",
              "            await google.colab.kernel.invokeFunction('convertToInteractive',\n",
              "                                                     [key], {});\n",
              "          if (!dataTable) return;\n",
              "\n",
              "          const docLinkHtml = 'Like what you see? Visit the ' +\n",
              "            '<a target=\"_blank\" href=https://colab.research.google.com/notebooks/data_table.ipynb>data table notebook</a>'\n",
              "            + ' to learn more about interactive tables.';\n",
              "          element.innerHTML = '';\n",
              "          dataTable['output_type'] = 'display_data';\n",
              "          await google.colab.output.renderOutput(dataTable, element);\n",
              "          const docLink = document.createElement('div');\n",
              "          docLink.innerHTML = docLinkHtml;\n",
              "          element.appendChild(docLink);\n",
              "        }\n",
              "      </script>\n",
              "    </div>\n",
              "  </div>\n",
              "  "
            ]
          },
          "metadata": {},
          "execution_count": 55
        }
      ]
    },
    {
      "cell_type": "code",
      "source": [
        "news_data.to_csv('checkpoint.csv')"
      ],
      "metadata": {
        "id": "Zxm-XJz7KUbt"
      },
      "execution_count": null,
      "outputs": []
    },
    {
      "cell_type": "code",
      "source": [
        "from nltk.sentiment.vader import SentimentIntensityAnalyzer\n",
        "nltk.download('vader_lexicon')\n",
        "sia = SentimentIntensityAnalyzer()"
      ],
      "metadata": {
        "colab": {
          "base_uri": "https://localhost:8080/"
        },
        "id": "v56zfMOrNKmZ",
        "outputId": "7929bb8f-d7c2-400a-de96-c4449ba7a80f"
      },
      "execution_count": null,
      "outputs": [
        {
          "output_type": "stream",
          "name": "stderr",
          "text": [
            "[nltk_data] Downloading package vader_lexicon to /root/nltk_data...\n"
          ]
        }
      ]
    },
    {
      "cell_type": "code",
      "source": [
        "news_data['compound'] = [sia.polarity_scores(v)['compound'] for v in news_data['news']]\n",
        "news_data['negative'] = [sia.polarity_scores(v)['neg'] for v in news_data['news']]\n",
        "news_data['neutral'] = [sia.polarity_scores(v)['neu'] for v in news_data['news']]\n",
        "news_data['positive'] = [sia.polarity_scores(v)['pos'] for v in news_data['news']]"
      ],
      "metadata": {
        "id": "GEixrbR-NeV5"
      },
      "execution_count": null,
      "outputs": []
    },
    {
      "cell_type": "code",
      "source": [
        "news_data.head()"
      ],
      "metadata": {
        "colab": {
          "base_uri": "https://localhost:8080/",
          "height": 206
        },
        "id": "sy0W_22nNmav",
        "outputId": "c074621d-702d-4fd8-db23-a3620ce57f90"
      },
      "execution_count": null,
      "outputs": [
        {
          "output_type": "execute_result",
          "data": {
            "text/plain": [
              "       date                                               news  subjectivity  \\\n",
              "0  20211001                dogecoin dark hors among cryptocurr          0.40   \n",
              "1  20211001         cop dhananjaya play childhood dream salaga          0.00   \n",
              "2  20211001                                 five oat dish love          0.60   \n",
              "3  20211001  horoscop today octob check astrolog predict ar...          0.00   \n",
              "4  20211001             durga puja committe opt low key celebr          0.65   \n",
              "\n",
              "   polarity  compound  negative  neutral  positive  \n",
              "0     -0.15    0.0000     0.000    1.000     0.000  \n",
              "1      0.00    0.5267     0.000    0.476     0.524  \n",
              "2      0.50    0.6369     0.000    0.417     0.583  \n",
              "3      0.00   -0.6597     0.306    0.694     0.000  \n",
              "4      0.00   -0.2732     0.259    0.741     0.000  "
            ],
            "text/html": [
              "\n",
              "  <div id=\"df-9cc88055-06fe-4eab-8239-a7f0d9c87b2d\">\n",
              "    <div class=\"colab-df-container\">\n",
              "      <div>\n",
              "<style scoped>\n",
              "    .dataframe tbody tr th:only-of-type {\n",
              "        vertical-align: middle;\n",
              "    }\n",
              "\n",
              "    .dataframe tbody tr th {\n",
              "        vertical-align: top;\n",
              "    }\n",
              "\n",
              "    .dataframe thead th {\n",
              "        text-align: right;\n",
              "    }\n",
              "</style>\n",
              "<table border=\"1\" class=\"dataframe\">\n",
              "  <thead>\n",
              "    <tr style=\"text-align: right;\">\n",
              "      <th></th>\n",
              "      <th>date</th>\n",
              "      <th>news</th>\n",
              "      <th>subjectivity</th>\n",
              "      <th>polarity</th>\n",
              "      <th>compound</th>\n",
              "      <th>negative</th>\n",
              "      <th>neutral</th>\n",
              "      <th>positive</th>\n",
              "    </tr>\n",
              "  </thead>\n",
              "  <tbody>\n",
              "    <tr>\n",
              "      <th>0</th>\n",
              "      <td>20211001</td>\n",
              "      <td>dogecoin dark hors among cryptocurr</td>\n",
              "      <td>0.40</td>\n",
              "      <td>-0.15</td>\n",
              "      <td>0.0000</td>\n",
              "      <td>0.000</td>\n",
              "      <td>1.000</td>\n",
              "      <td>0.000</td>\n",
              "    </tr>\n",
              "    <tr>\n",
              "      <th>1</th>\n",
              "      <td>20211001</td>\n",
              "      <td>cop dhananjaya play childhood dream salaga</td>\n",
              "      <td>0.00</td>\n",
              "      <td>0.00</td>\n",
              "      <td>0.5267</td>\n",
              "      <td>0.000</td>\n",
              "      <td>0.476</td>\n",
              "      <td>0.524</td>\n",
              "    </tr>\n",
              "    <tr>\n",
              "      <th>2</th>\n",
              "      <td>20211001</td>\n",
              "      <td>five oat dish love</td>\n",
              "      <td>0.60</td>\n",
              "      <td>0.50</td>\n",
              "      <td>0.6369</td>\n",
              "      <td>0.000</td>\n",
              "      <td>0.417</td>\n",
              "      <td>0.583</td>\n",
              "    </tr>\n",
              "    <tr>\n",
              "      <th>3</th>\n",
              "      <td>20211001</td>\n",
              "      <td>horoscop today octob check astrolog predict ar...</td>\n",
              "      <td>0.00</td>\n",
              "      <td>0.00</td>\n",
              "      <td>-0.6597</td>\n",
              "      <td>0.306</td>\n",
              "      <td>0.694</td>\n",
              "      <td>0.000</td>\n",
              "    </tr>\n",
              "    <tr>\n",
              "      <th>4</th>\n",
              "      <td>20211001</td>\n",
              "      <td>durga puja committe opt low key celebr</td>\n",
              "      <td>0.65</td>\n",
              "      <td>0.00</td>\n",
              "      <td>-0.2732</td>\n",
              "      <td>0.259</td>\n",
              "      <td>0.741</td>\n",
              "      <td>0.000</td>\n",
              "    </tr>\n",
              "  </tbody>\n",
              "</table>\n",
              "</div>\n",
              "      <button class=\"colab-df-convert\" onclick=\"convertToInteractive('df-9cc88055-06fe-4eab-8239-a7f0d9c87b2d')\"\n",
              "              title=\"Convert this dataframe to an interactive table.\"\n",
              "              style=\"display:none;\">\n",
              "        \n",
              "  <svg xmlns=\"http://www.w3.org/2000/svg\" height=\"24px\"viewBox=\"0 0 24 24\"\n",
              "       width=\"24px\">\n",
              "    <path d=\"M0 0h24v24H0V0z\" fill=\"none\"/>\n",
              "    <path d=\"M18.56 5.44l.94 2.06.94-2.06 2.06-.94-2.06-.94-.94-2.06-.94 2.06-2.06.94zm-11 1L8.5 8.5l.94-2.06 2.06-.94-2.06-.94L8.5 2.5l-.94 2.06-2.06.94zm10 10l.94 2.06.94-2.06 2.06-.94-2.06-.94-.94-2.06-.94 2.06-2.06.94z\"/><path d=\"M17.41 7.96l-1.37-1.37c-.4-.4-.92-.59-1.43-.59-.52 0-1.04.2-1.43.59L10.3 9.45l-7.72 7.72c-.78.78-.78 2.05 0 2.83L4 21.41c.39.39.9.59 1.41.59.51 0 1.02-.2 1.41-.59l7.78-7.78 2.81-2.81c.8-.78.8-2.07 0-2.86zM5.41 20L4 18.59l7.72-7.72 1.47 1.35L5.41 20z\"/>\n",
              "  </svg>\n",
              "      </button>\n",
              "      \n",
              "  <style>\n",
              "    .colab-df-container {\n",
              "      display:flex;\n",
              "      flex-wrap:wrap;\n",
              "      gap: 12px;\n",
              "    }\n",
              "\n",
              "    .colab-df-convert {\n",
              "      background-color: #E8F0FE;\n",
              "      border: none;\n",
              "      border-radius: 50%;\n",
              "      cursor: pointer;\n",
              "      display: none;\n",
              "      fill: #1967D2;\n",
              "      height: 32px;\n",
              "      padding: 0 0 0 0;\n",
              "      width: 32px;\n",
              "    }\n",
              "\n",
              "    .colab-df-convert:hover {\n",
              "      background-color: #E2EBFA;\n",
              "      box-shadow: 0px 1px 2px rgba(60, 64, 67, 0.3), 0px 1px 3px 1px rgba(60, 64, 67, 0.15);\n",
              "      fill: #174EA6;\n",
              "    }\n",
              "\n",
              "    [theme=dark] .colab-df-convert {\n",
              "      background-color: #3B4455;\n",
              "      fill: #D2E3FC;\n",
              "    }\n",
              "\n",
              "    [theme=dark] .colab-df-convert:hover {\n",
              "      background-color: #434B5C;\n",
              "      box-shadow: 0px 1px 3px 1px rgba(0, 0, 0, 0.15);\n",
              "      filter: drop-shadow(0px 1px 2px rgba(0, 0, 0, 0.3));\n",
              "      fill: #FFFFFF;\n",
              "    }\n",
              "  </style>\n",
              "\n",
              "      <script>\n",
              "        const buttonEl =\n",
              "          document.querySelector('#df-9cc88055-06fe-4eab-8239-a7f0d9c87b2d button.colab-df-convert');\n",
              "        buttonEl.style.display =\n",
              "          google.colab.kernel.accessAllowed ? 'block' : 'none';\n",
              "\n",
              "        async function convertToInteractive(key) {\n",
              "          const element = document.querySelector('#df-9cc88055-06fe-4eab-8239-a7f0d9c87b2d');\n",
              "          const dataTable =\n",
              "            await google.colab.kernel.invokeFunction('convertToInteractive',\n",
              "                                                     [key], {});\n",
              "          if (!dataTable) return;\n",
              "\n",
              "          const docLinkHtml = 'Like what you see? Visit the ' +\n",
              "            '<a target=\"_blank\" href=https://colab.research.google.com/notebooks/data_table.ipynb>data table notebook</a>'\n",
              "            + ' to learn more about interactive tables.';\n",
              "          element.innerHTML = '';\n",
              "          dataTable['output_type'] = 'display_data';\n",
              "          await google.colab.output.renderOutput(dataTable, element);\n",
              "          const docLink = document.createElement('div');\n",
              "          docLink.innerHTML = docLinkHtml;\n",
              "          element.appendChild(docLink);\n",
              "        }\n",
              "      </script>\n",
              "    </div>\n",
              "  </div>\n",
              "  "
            ]
          },
          "metadata": {},
          "execution_count": 59
        }
      ]
    },
    {
      "cell_type": "markdown",
      "source": [
        "## Merge data for hybird model"
      ],
      "metadata": {
        "id": "WVAfNuaKRvdI"
      }
    },
    {
      "cell_type": "code",
      "source": [
        "merged_data = pd.merge(past_data, news_data, how='inner', on='date')"
      ],
      "metadata": {
        "id": "xwjoMULxR6D0"
      },
      "execution_count": null,
      "outputs": []
    },
    {
      "cell_type": "code",
      "source": [
        "merged_data.isnull().sum()"
      ],
      "metadata": {
        "colab": {
          "base_uri": "https://localhost:8080/"
        },
        "id": "jDU2FLB2TRxN",
        "outputId": "f7555c03-4118-4286-ab57-cc456667be9b"
      },
      "execution_count": null,
      "outputs": [
        {
          "output_type": "execute_result",
          "data": {
            "text/plain": [
              "date            0\n",
              "open            0\n",
              "high            0\n",
              "low             0\n",
              "close           0\n",
              "adjclose        0\n",
              "volume          0\n",
              "news            0\n",
              "subjectivity    0\n",
              "polarity        0\n",
              "compound        0\n",
              "negative        0\n",
              "neutral         0\n",
              "positive        0\n",
              "dtype: int64"
            ]
          },
          "metadata": {},
          "execution_count": 61
        }
      ]
    },
    {
      "cell_type": "code",
      "source": [
        "merged_data.drop(['news','date'], axis=1, inplace=True)"
      ],
      "metadata": {
        "id": "CPBVX989TV1G"
      },
      "execution_count": null,
      "outputs": []
    },
    {
      "cell_type": "code",
      "source": [
        "merged_data.head()"
      ],
      "metadata": {
        "colab": {
          "base_uri": "https://localhost:8080/",
          "height": 250
        },
        "id": "Zk83iiFWTHkB",
        "outputId": "b9756825-a240-467d-ca6c-840214e9b4b1"
      },
      "execution_count": null,
      "outputs": [
        {
          "output_type": "execute_result",
          "data": {
            "text/plain": [
              "           open          high           low         close      adjclose  \\\n",
              "0  58889.769531  58890.078125  58551.140625  58765.578125  58765.578125   \n",
              "1  58889.769531  58890.078125  58551.140625  58765.578125  58765.578125   \n",
              "2  58889.769531  58890.078125  58551.140625  58765.578125  58765.578125   \n",
              "3  58889.769531  58890.078125  58551.140625  58765.578125  58765.578125   \n",
              "4  58889.769531  58890.078125  58551.140625  58765.578125  58765.578125   \n",
              "\n",
              "   volume  subjectivity  polarity  compound  negative  neutral  positive  \n",
              "0   10200          0.40     -0.15    0.0000     0.000    1.000     0.000  \n",
              "1   10200          0.00      0.00    0.5267     0.000    0.476     0.524  \n",
              "2   10200          0.60      0.50    0.6369     0.000    0.417     0.583  \n",
              "3   10200          0.00      0.00   -0.6597     0.306    0.694     0.000  \n",
              "4   10200          0.65      0.00   -0.2732     0.259    0.741     0.000  "
            ],
            "text/html": [
              "\n",
              "  <div id=\"df-e59389c2-d6f5-4055-8731-746490a1083e\">\n",
              "    <div class=\"colab-df-container\">\n",
              "      <div>\n",
              "<style scoped>\n",
              "    .dataframe tbody tr th:only-of-type {\n",
              "        vertical-align: middle;\n",
              "    }\n",
              "\n",
              "    .dataframe tbody tr th {\n",
              "        vertical-align: top;\n",
              "    }\n",
              "\n",
              "    .dataframe thead th {\n",
              "        text-align: right;\n",
              "    }\n",
              "</style>\n",
              "<table border=\"1\" class=\"dataframe\">\n",
              "  <thead>\n",
              "    <tr style=\"text-align: right;\">\n",
              "      <th></th>\n",
              "      <th>open</th>\n",
              "      <th>high</th>\n",
              "      <th>low</th>\n",
              "      <th>close</th>\n",
              "      <th>adjclose</th>\n",
              "      <th>volume</th>\n",
              "      <th>subjectivity</th>\n",
              "      <th>polarity</th>\n",
              "      <th>compound</th>\n",
              "      <th>negative</th>\n",
              "      <th>neutral</th>\n",
              "      <th>positive</th>\n",
              "    </tr>\n",
              "  </thead>\n",
              "  <tbody>\n",
              "    <tr>\n",
              "      <th>0</th>\n",
              "      <td>58889.769531</td>\n",
              "      <td>58890.078125</td>\n",
              "      <td>58551.140625</td>\n",
              "      <td>58765.578125</td>\n",
              "      <td>58765.578125</td>\n",
              "      <td>10200</td>\n",
              "      <td>0.40</td>\n",
              "      <td>-0.15</td>\n",
              "      <td>0.0000</td>\n",
              "      <td>0.000</td>\n",
              "      <td>1.000</td>\n",
              "      <td>0.000</td>\n",
              "    </tr>\n",
              "    <tr>\n",
              "      <th>1</th>\n",
              "      <td>58889.769531</td>\n",
              "      <td>58890.078125</td>\n",
              "      <td>58551.140625</td>\n",
              "      <td>58765.578125</td>\n",
              "      <td>58765.578125</td>\n",
              "      <td>10200</td>\n",
              "      <td>0.00</td>\n",
              "      <td>0.00</td>\n",
              "      <td>0.5267</td>\n",
              "      <td>0.000</td>\n",
              "      <td>0.476</td>\n",
              "      <td>0.524</td>\n",
              "    </tr>\n",
              "    <tr>\n",
              "      <th>2</th>\n",
              "      <td>58889.769531</td>\n",
              "      <td>58890.078125</td>\n",
              "      <td>58551.140625</td>\n",
              "      <td>58765.578125</td>\n",
              "      <td>58765.578125</td>\n",
              "      <td>10200</td>\n",
              "      <td>0.60</td>\n",
              "      <td>0.50</td>\n",
              "      <td>0.6369</td>\n",
              "      <td>0.000</td>\n",
              "      <td>0.417</td>\n",
              "      <td>0.583</td>\n",
              "    </tr>\n",
              "    <tr>\n",
              "      <th>3</th>\n",
              "      <td>58889.769531</td>\n",
              "      <td>58890.078125</td>\n",
              "      <td>58551.140625</td>\n",
              "      <td>58765.578125</td>\n",
              "      <td>58765.578125</td>\n",
              "      <td>10200</td>\n",
              "      <td>0.00</td>\n",
              "      <td>0.00</td>\n",
              "      <td>-0.6597</td>\n",
              "      <td>0.306</td>\n",
              "      <td>0.694</td>\n",
              "      <td>0.000</td>\n",
              "    </tr>\n",
              "    <tr>\n",
              "      <th>4</th>\n",
              "      <td>58889.769531</td>\n",
              "      <td>58890.078125</td>\n",
              "      <td>58551.140625</td>\n",
              "      <td>58765.578125</td>\n",
              "      <td>58765.578125</td>\n",
              "      <td>10200</td>\n",
              "      <td>0.65</td>\n",
              "      <td>0.00</td>\n",
              "      <td>-0.2732</td>\n",
              "      <td>0.259</td>\n",
              "      <td>0.741</td>\n",
              "      <td>0.000</td>\n",
              "    </tr>\n",
              "  </tbody>\n",
              "</table>\n",
              "</div>\n",
              "      <button class=\"colab-df-convert\" onclick=\"convertToInteractive('df-e59389c2-d6f5-4055-8731-746490a1083e')\"\n",
              "              title=\"Convert this dataframe to an interactive table.\"\n",
              "              style=\"display:none;\">\n",
              "        \n",
              "  <svg xmlns=\"http://www.w3.org/2000/svg\" height=\"24px\"viewBox=\"0 0 24 24\"\n",
              "       width=\"24px\">\n",
              "    <path d=\"M0 0h24v24H0V0z\" fill=\"none\"/>\n",
              "    <path d=\"M18.56 5.44l.94 2.06.94-2.06 2.06-.94-2.06-.94-.94-2.06-.94 2.06-2.06.94zm-11 1L8.5 8.5l.94-2.06 2.06-.94-2.06-.94L8.5 2.5l-.94 2.06-2.06.94zm10 10l.94 2.06.94-2.06 2.06-.94-2.06-.94-.94-2.06-.94 2.06-2.06.94z\"/><path d=\"M17.41 7.96l-1.37-1.37c-.4-.4-.92-.59-1.43-.59-.52 0-1.04.2-1.43.59L10.3 9.45l-7.72 7.72c-.78.78-.78 2.05 0 2.83L4 21.41c.39.39.9.59 1.41.59.51 0 1.02-.2 1.41-.59l7.78-7.78 2.81-2.81c.8-.78.8-2.07 0-2.86zM5.41 20L4 18.59l7.72-7.72 1.47 1.35L5.41 20z\"/>\n",
              "  </svg>\n",
              "      </button>\n",
              "      \n",
              "  <style>\n",
              "    .colab-df-container {\n",
              "      display:flex;\n",
              "      flex-wrap:wrap;\n",
              "      gap: 12px;\n",
              "    }\n",
              "\n",
              "    .colab-df-convert {\n",
              "      background-color: #E8F0FE;\n",
              "      border: none;\n",
              "      border-radius: 50%;\n",
              "      cursor: pointer;\n",
              "      display: none;\n",
              "      fill: #1967D2;\n",
              "      height: 32px;\n",
              "      padding: 0 0 0 0;\n",
              "      width: 32px;\n",
              "    }\n",
              "\n",
              "    .colab-df-convert:hover {\n",
              "      background-color: #E2EBFA;\n",
              "      box-shadow: 0px 1px 2px rgba(60, 64, 67, 0.3), 0px 1px 3px 1px rgba(60, 64, 67, 0.15);\n",
              "      fill: #174EA6;\n",
              "    }\n",
              "\n",
              "    [theme=dark] .colab-df-convert {\n",
              "      background-color: #3B4455;\n",
              "      fill: #D2E3FC;\n",
              "    }\n",
              "\n",
              "    [theme=dark] .colab-df-convert:hover {\n",
              "      background-color: #434B5C;\n",
              "      box-shadow: 0px 1px 3px 1px rgba(0, 0, 0, 0.15);\n",
              "      filter: drop-shadow(0px 1px 2px rgba(0, 0, 0, 0.3));\n",
              "      fill: #FFFFFF;\n",
              "    }\n",
              "  </style>\n",
              "\n",
              "      <script>\n",
              "        const buttonEl =\n",
              "          document.querySelector('#df-e59389c2-d6f5-4055-8731-746490a1083e button.colab-df-convert');\n",
              "        buttonEl.style.display =\n",
              "          google.colab.kernel.accessAllowed ? 'block' : 'none';\n",
              "\n",
              "        async function convertToInteractive(key) {\n",
              "          const element = document.querySelector('#df-e59389c2-d6f5-4055-8731-746490a1083e');\n",
              "          const dataTable =\n",
              "            await google.colab.kernel.invokeFunction('convertToInteractive',\n",
              "                                                     [key], {});\n",
              "          if (!dataTable) return;\n",
              "\n",
              "          const docLinkHtml = 'Like what you see? Visit the ' +\n",
              "            '<a target=\"_blank\" href=https://colab.research.google.com/notebooks/data_table.ipynb>data table notebook</a>'\n",
              "            + ' to learn more about interactive tables.';\n",
              "          element.innerHTML = '';\n",
              "          dataTable['output_type'] = 'display_data';\n",
              "          await google.colab.output.renderOutput(dataTable, element);\n",
              "          const docLink = document.createElement('div');\n",
              "          docLink.innerHTML = docLinkHtml;\n",
              "          element.appendChild(docLink);\n",
              "        }\n",
              "      </script>\n",
              "    </div>\n",
              "  </div>\n",
              "  "
            ]
          },
          "metadata": {},
          "execution_count": 63
        }
      ]
    },
    {
      "cell_type": "markdown",
      "source": [
        "## Multivariate time series forecasting"
      ],
      "metadata": {
        "id": "7OsH_y25T_sZ"
      }
    },
    {
      "cell_type": "markdown",
      "source": [
        "Convert dataset to supervised in **t** to **t+1** format<br>\n",
        "var(t-1) and var (t) has the same meaning as (t) (t+1) where we are using 1 step back to format it into X and Y variable."
      ],
      "metadata": {
        "id": "XQS2I0V8UIAJ"
      }
    },
    {
      "cell_type": "code",
      "source": [
        "def series_to_supervised(data, n_in=1, n_out=1, dropnan=True):\n",
        "\tn_vars = 1 if type(data) is list else data.shape[1]\n",
        "\tdf1 = df(data)\n",
        "\tcols, names = list(), list()\n",
        "\t# input sequence (t-n, ... t-1)\n",
        "\tfor i in range(n_in, 0, -1):\n",
        "\t\tcols.append(df1.shift(i))\n",
        "\t\tnames += [('var%d(t-%d)' % (j+1, i)) for j in range(n_vars)]\n",
        "\t# forecast sequence (t, t+1, ... t+n)\n",
        "\tfor i in range(0, n_out):\n",
        "\t\tcols.append(df1.shift(-i))\n",
        "\t\tif i == 0:\n",
        "\t\t\tnames += [('var%d(t)' % (j+1)) for j in range(n_vars)]\n",
        "\t\telse:\n",
        "\t\t\tnames += [('var%d(t+%d)' % (j+1, i)) for j in range(n_vars)]\n",
        "\t# put it all together\n",
        "\tagg = concat(cols, axis=1)\n",
        "\tagg.columns = names\n",
        "\t# drop rows with NaN values\n",
        "\tif dropnan:\n",
        "\t\tagg.dropna(inplace=True)\n",
        "\treturn agg"
      ],
      "metadata": {
        "id": "9C6CRQszitSN"
      },
      "execution_count": null,
      "outputs": []
    },
    {
      "cell_type": "code",
      "source": [
        "from sklearn.preprocessing import MinMaxScaler\n",
        "values = merged_data.values\n",
        "print(merged_data.head())\n",
        "print(values)\n",
        "values = values.astype('float32')\n",
        "# normalize features\n",
        "scaler = MinMaxScaler(feature_range=(0, 1))\n",
        "scaled = scaler.fit_transform(values)\n",
        "# frame as supervised learning\n",
        "reframed = series_to_supervised(scaled, 1, 1)\n",
        "# drop columns we don't want to predict\n",
        "reframed.drop(reframed.columns[[12,13,14,16,17,18,19,20,21,22,23]], axis=1, inplace=True)\n",
        "print(reframed.columns)"
      ],
      "metadata": {
        "colab": {
          "base_uri": "https://localhost:8080/"
        },
        "id": "7B5VEFIpixLN",
        "outputId": "fbb5dd57-bece-469a-f685-74d0b26877b6"
      },
      "execution_count": null,
      "outputs": [
        {
          "output_type": "stream",
          "name": "stdout",
          "text": [
            "           open          high           low         close      adjclose  \\\n",
            "0  58889.769531  58890.078125  58551.140625  58765.578125  58765.578125   \n",
            "1  58889.769531  58890.078125  58551.140625  58765.578125  58765.578125   \n",
            "2  58889.769531  58890.078125  58551.140625  58765.578125  58765.578125   \n",
            "3  58889.769531  58890.078125  58551.140625  58765.578125  58765.578125   \n",
            "4  58889.769531  58890.078125  58551.140625  58765.578125  58765.578125   \n",
            "\n",
            "   volume  subjectivity  polarity  compound  negative  neutral  positive  \n",
            "0   10200          0.40     -0.15    0.0000     0.000    1.000     0.000  \n",
            "1   10200          0.00      0.00    0.5267     0.000    0.476     0.524  \n",
            "2   10200          0.60      0.50    0.6369     0.000    0.417     0.583  \n",
            "3   10200          0.00      0.00   -0.6597     0.306    0.694     0.000  \n",
            "4   10200          0.65      0.00   -0.2732     0.259    0.741     0.000  \n",
            "[[5.88897695e+04 5.88900781e+04 5.85511406e+04 ... 0.00000000e+00\n",
            "  1.00000000e+00 0.00000000e+00]\n",
            " [5.88897695e+04 5.88900781e+04 5.85511406e+04 ... 0.00000000e+00\n",
            "  4.76000000e-01 5.24000000e-01]\n",
            " [5.88897695e+04 5.88900781e+04 5.85511406e+04 ... 0.00000000e+00\n",
            "  4.17000000e-01 5.83000000e-01]\n",
            " ...\n",
            " [5.78497617e+04 5.84093008e+04 5.78465195e+04 ... 0.00000000e+00\n",
            "  1.00000000e+00 0.00000000e+00]\n",
            " [5.78497617e+04 5.84093008e+04 5.78465195e+04 ... 0.00000000e+00\n",
            "  1.00000000e+00 0.00000000e+00]\n",
            " [5.78497617e+04 5.84093008e+04 5.78465195e+04 ... 0.00000000e+00\n",
            "  7.61000000e-01 2.39000000e-01]]\n",
            "Index(['var1(t-1)', 'var2(t-1)', 'var3(t-1)', 'var4(t-1)', 'var5(t-1)',\n",
            "       'var6(t-1)', 'var7(t-1)', 'var8(t-1)', 'var9(t-1)', 'var10(t-1)',\n",
            "       'var11(t-1)', 'var12(t-1)', 'var4(t)'],\n",
            "      dtype='object')\n"
          ]
        }
      ]
    },
    {
      "cell_type": "markdown",
      "source": [
        "### Build and train the LTSM model"
      ],
      "metadata": {
        "id": "U8AFoVUXjVs_"
      }
    },
    {
      "cell_type": "code",
      "source": [
        "# split into train and test sets\n",
        "values = reframed.values\n",
        "print((values).shape)\n",
        "hours = 6000\n",
        "train = values[hours:, :]\n",
        "test = values[:hours, :]\n",
        "# split into input and outputs\n",
        "train_X, train_y = train[:, :-1], train[:, -1]\n",
        "test_X, test_y = test[:, :-1], test[:, -1]\n",
        "# reshape input to be 3D [samples, timesteps, features]\n",
        "train_X = train_X.reshape((train_X.shape[0], 1, train_X.shape[1]))\n",
        "test_X = test_X.reshape((test_X.shape[0], 1, test_X.shape[1]))\n",
        "print(train_X.shape, train_y.shape, test_X.shape, test_y.shape)"
      ],
      "metadata": {
        "colab": {
          "base_uri": "https://localhost:8080/"
        },
        "id": "DXF0uDEMjcqR",
        "outputId": "29c3354d-97dc-4b23-d46f-9973fbebe332"
      },
      "execution_count": null,
      "outputs": [
        {
          "output_type": "stream",
          "name": "stdout",
          "text": [
            "(30577, 13)\n",
            "(24577, 1, 12) (24577,) (6000, 1, 12) (6000,)\n"
          ]
        }
      ]
    },
    {
      "cell_type": "code",
      "source": [
        "import keras\n",
        "\n",
        "model = keras.models.Sequential([\n",
        "    keras.layers.LSTM(50, input_shape=(train_X.shape[1], train_X.shape[2])),\n",
        "    keras.layers.Dense(1)\n",
        "])\n",
        "model.compile(loss='mae', optimizer='adam') \n",
        "\n",
        "history = model.fit(train_X, train_y, epochs=200, batch_size=72, validation_data=(test_X, test_y), verbose=2, shuffle=False)"
      ],
      "metadata": {
        "colab": {
          "base_uri": "https://localhost:8080/"
        },
        "id": "_WUr8p4mjhJM",
        "outputId": "bbb9b9b8-5f5d-4834-aa8b-694b59c70248"
      },
      "execution_count": null,
      "outputs": [
        {
          "output_type": "stream",
          "name": "stdout",
          "text": [
            "Epoch 1/200\n",
            "342/342 - 3s - loss: 0.0867 - val_loss: 0.2025 - 3s/epoch - 9ms/step\n",
            "Epoch 2/200\n",
            "342/342 - 1s - loss: 0.0464 - val_loss: 0.1771 - 1s/epoch - 4ms/step\n",
            "Epoch 3/200\n",
            "342/342 - 1s - loss: 0.0411 - val_loss: 0.1361 - 1s/epoch - 3ms/step\n",
            "Epoch 4/200\n",
            "342/342 - 1s - loss: 0.0376 - val_loss: 0.1223 - 1s/epoch - 3ms/step\n",
            "Epoch 5/200\n",
            "342/342 - 1s - loss: 0.0342 - val_loss: 0.0771 - 1s/epoch - 4ms/step\n",
            "Epoch 6/200\n",
            "342/342 - 1s - loss: 0.0316 - val_loss: 0.0713 - 1s/epoch - 3ms/step\n",
            "Epoch 7/200\n",
            "342/342 - 1s - loss: 0.0283 - val_loss: 0.0640 - 1s/epoch - 4ms/step\n",
            "Epoch 8/200\n",
            "342/342 - 1s - loss: 0.0235 - val_loss: 0.0584 - 1s/epoch - 3ms/step\n",
            "Epoch 9/200\n",
            "342/342 - 1s - loss: 0.0186 - val_loss: 0.0529 - 1s/epoch - 3ms/step\n",
            "Epoch 10/200\n",
            "342/342 - 1s - loss: 0.0138 - val_loss: 0.0490 - 1s/epoch - 4ms/step\n",
            "Epoch 11/200\n",
            "342/342 - 1s - loss: 0.0117 - val_loss: 0.0434 - 1s/epoch - 4ms/step\n",
            "Epoch 12/200\n",
            "342/342 - 1s - loss: 0.0116 - val_loss: 0.0438 - 1s/epoch - 3ms/step\n",
            "Epoch 13/200\n",
            "342/342 - 1s - loss: 0.0127 - val_loss: 0.0472 - 1s/epoch - 4ms/step\n",
            "Epoch 14/200\n",
            "342/342 - 1s - loss: 0.0125 - val_loss: 0.0350 - 1s/epoch - 3ms/step\n",
            "Epoch 15/200\n",
            "342/342 - 1s - loss: 0.0109 - val_loss: 0.0433 - 1s/epoch - 3ms/step\n",
            "Epoch 16/200\n",
            "342/342 - 1s - loss: 0.0116 - val_loss: 0.0399 - 1s/epoch - 3ms/step\n",
            "Epoch 17/200\n",
            "342/342 - 1s - loss: 0.0111 - val_loss: 0.0372 - 1s/epoch - 3ms/step\n",
            "Epoch 18/200\n",
            "342/342 - 1s - loss: 0.0115 - val_loss: 0.0245 - 1s/epoch - 4ms/step\n",
            "Epoch 19/200\n",
            "342/342 - 1s - loss: 0.0096 - val_loss: 0.0189 - 1s/epoch - 3ms/step\n",
            "Epoch 20/200\n",
            "342/342 - 1s - loss: 0.0094 - val_loss: 0.0190 - 1s/epoch - 3ms/step\n",
            "Epoch 21/200\n",
            "342/342 - 1s - loss: 0.0089 - val_loss: 0.0148 - 1s/epoch - 4ms/step\n",
            "Epoch 22/200\n",
            "342/342 - 1s - loss: 0.0123 - val_loss: 0.0135 - 1s/epoch - 3ms/step\n",
            "Epoch 23/200\n",
            "342/342 - 1s - loss: 0.0085 - val_loss: 0.0204 - 1s/epoch - 3ms/step\n",
            "Epoch 24/200\n",
            "342/342 - 1s - loss: 0.0080 - val_loss: 0.0231 - 1s/epoch - 4ms/step\n",
            "Epoch 25/200\n",
            "342/342 - 1s - loss: 0.0101 - val_loss: 0.0148 - 1s/epoch - 4ms/step\n",
            "Epoch 26/200\n",
            "342/342 - 1s - loss: 0.0087 - val_loss: 0.0240 - 1s/epoch - 4ms/step\n",
            "Epoch 27/200\n",
            "342/342 - 1s - loss: 0.0085 - val_loss: 0.0228 - 1s/epoch - 3ms/step\n",
            "Epoch 28/200\n",
            "342/342 - 1s - loss: 0.0091 - val_loss: 0.0214 - 1s/epoch - 3ms/step\n",
            "Epoch 29/200\n",
            "342/342 - 1s - loss: 0.0096 - val_loss: 0.0213 - 1s/epoch - 4ms/step\n",
            "Epoch 30/200\n",
            "342/342 - 1s - loss: 0.0095 - val_loss: 0.0130 - 1s/epoch - 4ms/step\n",
            "Epoch 31/200\n",
            "342/342 - 1s - loss: 0.0077 - val_loss: 0.0162 - 1s/epoch - 4ms/step\n",
            "Epoch 32/200\n",
            "342/342 - 1s - loss: 0.0084 - val_loss: 0.0122 - 1s/epoch - 3ms/step\n",
            "Epoch 33/200\n",
            "342/342 - 1s - loss: 0.0080 - val_loss: 0.0139 - 1s/epoch - 3ms/step\n",
            "Epoch 34/200\n",
            "342/342 - 1s - loss: 0.0085 - val_loss: 0.0136 - 1s/epoch - 4ms/step\n",
            "Epoch 35/200\n",
            "342/342 - 1s - loss: 0.0089 - val_loss: 0.0134 - 1s/epoch - 4ms/step\n",
            "Epoch 36/200\n",
            "342/342 - 1s - loss: 0.0063 - val_loss: 0.0128 - 1s/epoch - 3ms/step\n",
            "Epoch 37/200\n",
            "342/342 - 1s - loss: 0.0077 - val_loss: 0.0216 - 1s/epoch - 3ms/step\n",
            "Epoch 38/200\n",
            "342/342 - 1s - loss: 0.0084 - val_loss: 0.0200 - 1s/epoch - 4ms/step\n",
            "Epoch 39/200\n",
            "342/342 - 1s - loss: 0.0064 - val_loss: 0.0142 - 1s/epoch - 3ms/step\n",
            "Epoch 40/200\n",
            "342/342 - 1s - loss: 0.0066 - val_loss: 0.0195 - 1s/epoch - 4ms/step\n",
            "Epoch 41/200\n",
            "342/342 - 1s - loss: 0.0071 - val_loss: 0.0219 - 1s/epoch - 3ms/step\n",
            "Epoch 42/200\n",
            "342/342 - 1s - loss: 0.0080 - val_loss: 0.0142 - 1s/epoch - 3ms/step\n",
            "Epoch 43/200\n",
            "342/342 - 1s - loss: 0.0066 - val_loss: 0.0171 - 1s/epoch - 3ms/step\n",
            "Epoch 44/200\n",
            "342/342 - 1s - loss: 0.0063 - val_loss: 0.0121 - 1s/epoch - 4ms/step\n",
            "Epoch 45/200\n",
            "342/342 - 1s - loss: 0.0063 - val_loss: 0.0231 - 1s/epoch - 4ms/step\n",
            "Epoch 46/200\n",
            "342/342 - 1s - loss: 0.0074 - val_loss: 0.0271 - 1s/epoch - 4ms/step\n",
            "Epoch 47/200\n",
            "342/342 - 1s - loss: 0.0077 - val_loss: 0.0338 - 1s/epoch - 4ms/step\n",
            "Epoch 48/200\n",
            "342/342 - 1s - loss: 0.0083 - val_loss: 0.0346 - 1s/epoch - 3ms/step\n",
            "Epoch 49/200\n",
            "342/342 - 1s - loss: 0.0076 - val_loss: 0.0335 - 1s/epoch - 4ms/step\n",
            "Epoch 50/200\n",
            "342/342 - 2s - loss: 0.0071 - val_loss: 0.0289 - 2s/epoch - 6ms/step\n",
            "Epoch 51/200\n",
            "342/342 - 2s - loss: 0.0076 - val_loss: 0.0205 - 2s/epoch - 6ms/step\n",
            "Epoch 52/200\n",
            "342/342 - 2s - loss: 0.0058 - val_loss: 0.0273 - 2s/epoch - 5ms/step\n",
            "Epoch 53/200\n",
            "342/342 - 1s - loss: 0.0076 - val_loss: 0.0225 - 1s/epoch - 3ms/step\n",
            "Epoch 54/200\n",
            "342/342 - 1s - loss: 0.0059 - val_loss: 0.0207 - 1s/epoch - 3ms/step\n",
            "Epoch 55/200\n",
            "342/342 - 1s - loss: 0.0062 - val_loss: 0.0176 - 1s/epoch - 4ms/step\n",
            "Epoch 56/200\n",
            "342/342 - 1s - loss: 0.0062 - val_loss: 0.0235 - 1s/epoch - 3ms/step\n",
            "Epoch 57/200\n",
            "342/342 - 1s - loss: 0.0077 - val_loss: 0.0200 - 1s/epoch - 3ms/step\n",
            "Epoch 58/200\n",
            "342/342 - 1s - loss: 0.0062 - val_loss: 0.0144 - 1s/epoch - 3ms/step\n",
            "Epoch 59/200\n",
            "342/342 - 1s - loss: 0.0058 - val_loss: 0.0200 - 1s/epoch - 3ms/step\n",
            "Epoch 60/200\n",
            "342/342 - 1s - loss: 0.0069 - val_loss: 0.0176 - 1s/epoch - 3ms/step\n",
            "Epoch 61/200\n",
            "342/342 - 1s - loss: 0.0067 - val_loss: 0.0189 - 1s/epoch - 3ms/step\n",
            "Epoch 62/200\n",
            "342/342 - 1s - loss: 0.0066 - val_loss: 0.0230 - 1s/epoch - 3ms/step\n",
            "Epoch 63/200\n",
            "342/342 - 1s - loss: 0.0068 - val_loss: 0.0357 - 1s/epoch - 4ms/step\n",
            "Epoch 64/200\n",
            "342/342 - 1s - loss: 0.0077 - val_loss: 0.0301 - 1s/epoch - 3ms/step\n",
            "Epoch 65/200\n",
            "342/342 - 1s - loss: 0.0086 - val_loss: 0.0326 - 1s/epoch - 3ms/step\n",
            "Epoch 66/200\n",
            "342/342 - 1s - loss: 0.0080 - val_loss: 0.0269 - 1s/epoch - 3ms/step\n",
            "Epoch 67/200\n",
            "342/342 - 1s - loss: 0.0049 - val_loss: 0.0293 - 1s/epoch - 4ms/step\n",
            "Epoch 68/200\n",
            "342/342 - 1s - loss: 0.0058 - val_loss: 0.0228 - 1s/epoch - 3ms/step\n",
            "Epoch 69/200\n",
            "342/342 - 1s - loss: 0.0055 - val_loss: 0.0313 - 1s/epoch - 3ms/step\n",
            "Epoch 70/200\n",
            "342/342 - 1s - loss: 0.0072 - val_loss: 0.0284 - 1s/epoch - 4ms/step\n",
            "Epoch 71/200\n",
            "342/342 - 1s - loss: 0.0068 - val_loss: 0.0338 - 1s/epoch - 3ms/step\n",
            "Epoch 72/200\n",
            "342/342 - 1s - loss: 0.0083 - val_loss: 0.0330 - 1s/epoch - 4ms/step\n",
            "Epoch 73/200\n",
            "342/342 - 1s - loss: 0.0074 - val_loss: 0.0289 - 1s/epoch - 4ms/step\n",
            "Epoch 74/200\n",
            "342/342 - 1s - loss: 0.0076 - val_loss: 0.0394 - 1s/epoch - 4ms/step\n",
            "Epoch 75/200\n",
            "342/342 - 1s - loss: 0.0084 - val_loss: 0.0405 - 1s/epoch - 4ms/step\n",
            "Epoch 76/200\n",
            "342/342 - 1s - loss: 0.0066 - val_loss: 0.0345 - 1s/epoch - 4ms/step\n",
            "Epoch 77/200\n",
            "342/342 - 1s - loss: 0.0085 - val_loss: 0.0397 - 1s/epoch - 3ms/step\n",
            "Epoch 78/200\n",
            "342/342 - 1s - loss: 0.0092 - val_loss: 0.0370 - 1s/epoch - 3ms/step\n",
            "Epoch 79/200\n",
            "342/342 - 1s - loss: 0.0070 - val_loss: 0.0328 - 1s/epoch - 3ms/step\n",
            "Epoch 80/200\n",
            "342/342 - 1s - loss: 0.0089 - val_loss: 0.0343 - 1s/epoch - 3ms/step\n",
            "Epoch 81/200\n",
            "342/342 - 1s - loss: 0.0088 - val_loss: 0.0396 - 1s/epoch - 3ms/step\n",
            "Epoch 82/200\n",
            "342/342 - 1s - loss: 0.0084 - val_loss: 0.0353 - 1s/epoch - 3ms/step\n",
            "Epoch 83/200\n",
            "342/342 - 1s - loss: 0.0082 - val_loss: 0.0402 - 1s/epoch - 3ms/step\n",
            "Epoch 84/200\n",
            "342/342 - 1s - loss: 0.0086 - val_loss: 0.0394 - 1s/epoch - 3ms/step\n",
            "Epoch 85/200\n",
            "342/342 - 1s - loss: 0.0099 - val_loss: 0.0278 - 1s/epoch - 4ms/step\n",
            "Epoch 86/200\n",
            "342/342 - 1s - loss: 0.0077 - val_loss: 0.0319 - 1s/epoch - 3ms/step\n",
            "Epoch 87/200\n",
            "342/342 - 1s - loss: 0.0091 - val_loss: 0.0317 - 1s/epoch - 3ms/step\n",
            "Epoch 88/200\n",
            "342/342 - 1s - loss: 0.0084 - val_loss: 0.0320 - 1s/epoch - 4ms/step\n",
            "Epoch 89/200\n",
            "342/342 - 1s - loss: 0.0092 - val_loss: 0.0285 - 1s/epoch - 4ms/step\n",
            "Epoch 90/200\n",
            "342/342 - 1s - loss: 0.0085 - val_loss: 0.0366 - 1s/epoch - 3ms/step\n",
            "Epoch 91/200\n",
            "342/342 - 1s - loss: 0.0084 - val_loss: 0.0394 - 1s/epoch - 3ms/step\n",
            "Epoch 92/200\n",
            "342/342 - 1s - loss: 0.0083 - val_loss: 0.0404 - 1s/epoch - 4ms/step\n",
            "Epoch 93/200\n",
            "342/342 - 1s - loss: 0.0084 - val_loss: 0.0488 - 1s/epoch - 4ms/step\n",
            "Epoch 94/200\n",
            "342/342 - 1s - loss: 0.0094 - val_loss: 0.0456 - 1s/epoch - 4ms/step\n",
            "Epoch 95/200\n",
            "342/342 - 1s - loss: 0.0095 - val_loss: 0.0458 - 1s/epoch - 3ms/step\n",
            "Epoch 96/200\n",
            "342/342 - 1s - loss: 0.0090 - val_loss: 0.0462 - 1s/epoch - 4ms/step\n",
            "Epoch 97/200\n",
            "342/342 - 1s - loss: 0.0097 - val_loss: 0.0373 - 1s/epoch - 4ms/step\n",
            "Epoch 98/200\n",
            "342/342 - 1s - loss: 0.0078 - val_loss: 0.0311 - 1s/epoch - 3ms/step\n",
            "Epoch 99/200\n",
            "342/342 - 1s - loss: 0.0076 - val_loss: 0.0371 - 1s/epoch - 3ms/step\n",
            "Epoch 100/200\n",
            "342/342 - 1s - loss: 0.0101 - val_loss: 0.0279 - 1s/epoch - 4ms/step\n",
            "Epoch 101/200\n",
            "342/342 - 1s - loss: 0.0090 - val_loss: 0.0360 - 1s/epoch - 3ms/step\n",
            "Epoch 102/200\n",
            "342/342 - 1s - loss: 0.0094 - val_loss: 0.0274 - 1s/epoch - 4ms/step\n",
            "Epoch 103/200\n",
            "342/342 - 1s - loss: 0.0078 - val_loss: 0.0300 - 1s/epoch - 3ms/step\n",
            "Epoch 104/200\n",
            "342/342 - 1s - loss: 0.0097 - val_loss: 0.0256 - 1s/epoch - 3ms/step\n",
            "Epoch 105/200\n",
            "342/342 - 1s - loss: 0.0088 - val_loss: 0.0253 - 1s/epoch - 3ms/step\n",
            "Epoch 106/200\n",
            "342/342 - 1s - loss: 0.0082 - val_loss: 0.0296 - 1s/epoch - 3ms/step\n",
            "Epoch 107/200\n",
            "342/342 - 1s - loss: 0.0097 - val_loss: 0.0337 - 1s/epoch - 3ms/step\n",
            "Epoch 108/200\n",
            "342/342 - 1s - loss: 0.0090 - val_loss: 0.0425 - 1s/epoch - 4ms/step\n",
            "Epoch 109/200\n",
            "342/342 - 1s - loss: 0.0087 - val_loss: 0.0358 - 1s/epoch - 3ms/step\n",
            "Epoch 110/200\n",
            "342/342 - 1s - loss: 0.0083 - val_loss: 0.0374 - 1s/epoch - 3ms/step\n",
            "Epoch 111/200\n",
            "342/342 - 1s - loss: 0.0087 - val_loss: 0.0388 - 1s/epoch - 3ms/step\n",
            "Epoch 112/200\n",
            "342/342 - 1s - loss: 0.0073 - val_loss: 0.0396 - 1s/epoch - 4ms/step\n",
            "Epoch 113/200\n",
            "342/342 - 1s - loss: 0.0079 - val_loss: 0.0378 - 1s/epoch - 3ms/step\n",
            "Epoch 114/200\n",
            "342/342 - 1s - loss: 0.0075 - val_loss: 0.0363 - 1s/epoch - 4ms/step\n",
            "Epoch 115/200\n",
            "342/342 - 1s - loss: 0.0076 - val_loss: 0.0381 - 1s/epoch - 3ms/step\n",
            "Epoch 116/200\n",
            "342/342 - 1s - loss: 0.0082 - val_loss: 0.0367 - 1s/epoch - 3ms/step\n",
            "Epoch 117/200\n",
            "342/342 - 1s - loss: 0.0069 - val_loss: 0.0373 - 1s/epoch - 3ms/step\n",
            "Epoch 118/200\n",
            "342/342 - 1s - loss: 0.0077 - val_loss: 0.0429 - 1s/epoch - 4ms/step\n",
            "Epoch 119/200\n",
            "342/342 - 1s - loss: 0.0082 - val_loss: 0.0371 - 1s/epoch - 3ms/step\n",
            "Epoch 120/200\n",
            "342/342 - 1s - loss: 0.0080 - val_loss: 0.0427 - 1s/epoch - 4ms/step\n",
            "Epoch 121/200\n",
            "342/342 - 1s - loss: 0.0087 - val_loss: 0.0374 - 1s/epoch - 4ms/step\n",
            "Epoch 122/200\n",
            "342/342 - 1s - loss: 0.0063 - val_loss: 0.0479 - 1s/epoch - 3ms/step\n",
            "Epoch 123/200\n",
            "342/342 - 1s - loss: 0.0089 - val_loss: 0.0397 - 1s/epoch - 3ms/step\n",
            "Epoch 124/200\n",
            "342/342 - 1s - loss: 0.0076 - val_loss: 0.0403 - 1s/epoch - 3ms/step\n",
            "Epoch 125/200\n",
            "342/342 - 1s - loss: 0.0081 - val_loss: 0.0408 - 1s/epoch - 4ms/step\n",
            "Epoch 126/200\n",
            "342/342 - 1s - loss: 0.0088 - val_loss: 0.0384 - 1s/epoch - 4ms/step\n",
            "Epoch 127/200\n",
            "342/342 - 1s - loss: 0.0089 - val_loss: 0.0396 - 1s/epoch - 4ms/step\n",
            "Epoch 128/200\n",
            "342/342 - 1s - loss: 0.0089 - val_loss: 0.0316 - 1s/epoch - 3ms/step\n",
            "Epoch 129/200\n",
            "342/342 - 1s - loss: 0.0085 - val_loss: 0.0362 - 1s/epoch - 3ms/step\n",
            "Epoch 130/200\n",
            "342/342 - 1s - loss: 0.0087 - val_loss: 0.0303 - 1s/epoch - 3ms/step\n",
            "Epoch 131/200\n",
            "342/342 - 1s - loss: 0.0090 - val_loss: 0.0274 - 1s/epoch - 3ms/step\n",
            "Epoch 132/200\n",
            "342/342 - 1s - loss: 0.0088 - val_loss: 0.0376 - 1s/epoch - 4ms/step\n",
            "Epoch 133/200\n",
            "342/342 - 1s - loss: 0.0088 - val_loss: 0.0352 - 1s/epoch - 3ms/step\n",
            "Epoch 134/200\n",
            "342/342 - 1s - loss: 0.0085 - val_loss: 0.0492 - 1s/epoch - 3ms/step\n",
            "Epoch 135/200\n",
            "342/342 - 1s - loss: 0.0098 - val_loss: 0.0400 - 1s/epoch - 3ms/step\n",
            "Epoch 136/200\n",
            "342/342 - 1s - loss: 0.0083 - val_loss: 0.0353 - 1s/epoch - 4ms/step\n",
            "Epoch 137/200\n",
            "342/342 - 1s - loss: 0.0081 - val_loss: 0.0338 - 1s/epoch - 3ms/step\n",
            "Epoch 138/200\n",
            "342/342 - 1s - loss: 0.0080 - val_loss: 0.0280 - 1s/epoch - 3ms/step\n",
            "Epoch 139/200\n",
            "342/342 - 1s - loss: 0.0078 - val_loss: 0.0394 - 1s/epoch - 4ms/step\n",
            "Epoch 140/200\n",
            "342/342 - 1s - loss: 0.0080 - val_loss: 0.0299 - 1s/epoch - 3ms/step\n",
            "Epoch 141/200\n",
            "342/342 - 1s - loss: 0.0073 - val_loss: 0.0338 - 1s/epoch - 3ms/step\n",
            "Epoch 142/200\n",
            "342/342 - 1s - loss: 0.0068 - val_loss: 0.0381 - 1s/epoch - 3ms/step\n",
            "Epoch 143/200\n",
            "342/342 - 1s - loss: 0.0075 - val_loss: 0.0382 - 1s/epoch - 4ms/step\n",
            "Epoch 144/200\n",
            "342/342 - 1s - loss: 0.0070 - val_loss: 0.0384 - 1s/epoch - 3ms/step\n",
            "Epoch 145/200\n",
            "342/342 - 1s - loss: 0.0071 - val_loss: 0.0364 - 1s/epoch - 3ms/step\n",
            "Epoch 146/200\n",
            "342/342 - 1s - loss: 0.0064 - val_loss: 0.0376 - 1s/epoch - 4ms/step\n",
            "Epoch 147/200\n",
            "342/342 - 1s - loss: 0.0084 - val_loss: 0.0318 - 1s/epoch - 4ms/step\n",
            "Epoch 148/200\n",
            "342/342 - 1s - loss: 0.0064 - val_loss: 0.0399 - 1s/epoch - 4ms/step\n",
            "Epoch 149/200\n",
            "342/342 - 1s - loss: 0.0083 - val_loss: 0.0293 - 1s/epoch - 3ms/step\n",
            "Epoch 150/200\n",
            "342/342 - 1s - loss: 0.0070 - val_loss: 0.0301 - 1s/epoch - 4ms/step\n",
            "Epoch 151/200\n",
            "342/342 - 1s - loss: 0.0076 - val_loss: 0.0308 - 1s/epoch - 4ms/step\n",
            "Epoch 152/200\n",
            "342/342 - 1s - loss: 0.0085 - val_loss: 0.0363 - 1s/epoch - 4ms/step\n",
            "Epoch 153/200\n",
            "342/342 - 1s - loss: 0.0080 - val_loss: 0.0397 - 1s/epoch - 3ms/step\n",
            "Epoch 154/200\n",
            "342/342 - 1s - loss: 0.0076 - val_loss: 0.0456 - 1s/epoch - 4ms/step\n",
            "Epoch 155/200\n",
            "342/342 - 1s - loss: 0.0079 - val_loss: 0.0400 - 1s/epoch - 3ms/step\n",
            "Epoch 156/200\n",
            "342/342 - 1s - loss: 0.0073 - val_loss: 0.0420 - 1s/epoch - 3ms/step\n",
            "Epoch 157/200\n",
            "342/342 - 1s - loss: 0.0087 - val_loss: 0.0368 - 1s/epoch - 4ms/step\n",
            "Epoch 158/200\n",
            "342/342 - 1s - loss: 0.0068 - val_loss: 0.0327 - 1s/epoch - 3ms/step\n",
            "Epoch 159/200\n",
            "342/342 - 1s - loss: 0.0078 - val_loss: 0.0311 - 1s/epoch - 4ms/step\n",
            "Epoch 160/200\n",
            "342/342 - 1s - loss: 0.0085 - val_loss: 0.0280 - 1s/epoch - 4ms/step\n",
            "Epoch 161/200\n",
            "342/342 - 1s - loss: 0.0082 - val_loss: 0.0300 - 1s/epoch - 3ms/step\n",
            "Epoch 162/200\n",
            "342/342 - 1s - loss: 0.0088 - val_loss: 0.0303 - 1s/epoch - 3ms/step\n",
            "Epoch 163/200\n",
            "342/342 - 1s - loss: 0.0077 - val_loss: 0.0376 - 1s/epoch - 3ms/step\n",
            "Epoch 164/200\n",
            "342/342 - 1s - loss: 0.0079 - val_loss: 0.0318 - 1s/epoch - 4ms/step\n",
            "Epoch 165/200\n",
            "342/342 - 1s - loss: 0.0071 - val_loss: 0.0382 - 1s/epoch - 4ms/step\n",
            "Epoch 166/200\n",
            "342/342 - 1s - loss: 0.0080 - val_loss: 0.0294 - 1s/epoch - 3ms/step\n",
            "Epoch 167/200\n",
            "342/342 - 1s - loss: 0.0061 - val_loss: 0.0312 - 1s/epoch - 3ms/step\n",
            "Epoch 168/200\n",
            "342/342 - 1s - loss: 0.0073 - val_loss: 0.0322 - 1s/epoch - 4ms/step\n",
            "Epoch 169/200\n",
            "342/342 - 1s - loss: 0.0069 - val_loss: 0.0280 - 1s/epoch - 4ms/step\n",
            "Epoch 170/200\n",
            "342/342 - 1s - loss: 0.0075 - val_loss: 0.0298 - 1s/epoch - 3ms/step\n",
            "Epoch 171/200\n",
            "342/342 - 1s - loss: 0.0076 - val_loss: 0.0268 - 1s/epoch - 3ms/step\n",
            "Epoch 172/200\n",
            "342/342 - 1s - loss: 0.0072 - val_loss: 0.0333 - 1s/epoch - 4ms/step\n",
            "Epoch 173/200\n",
            "342/342 - 1s - loss: 0.0063 - val_loss: 0.0314 - 1s/epoch - 4ms/step\n",
            "Epoch 174/200\n",
            "342/342 - 1s - loss: 0.0069 - val_loss: 0.0387 - 1s/epoch - 3ms/step\n",
            "Epoch 175/200\n",
            "342/342 - 1s - loss: 0.0059 - val_loss: 0.0400 - 1s/epoch - 3ms/step\n",
            "Epoch 176/200\n",
            "342/342 - 1s - loss: 0.0066 - val_loss: 0.0424 - 1s/epoch - 4ms/step\n",
            "Epoch 177/200\n",
            "342/342 - 1s - loss: 0.0072 - val_loss: 0.0379 - 1s/epoch - 3ms/step\n",
            "Epoch 178/200\n",
            "342/342 - 1s - loss: 0.0068 - val_loss: 0.0416 - 1s/epoch - 3ms/step\n",
            "Epoch 179/200\n",
            "342/342 - 1s - loss: 0.0078 - val_loss: 0.0318 - 1s/epoch - 4ms/step\n",
            "Epoch 180/200\n",
            "342/342 - 1s - loss: 0.0063 - val_loss: 0.0330 - 1s/epoch - 3ms/step\n",
            "Epoch 181/200\n",
            "342/342 - 1s - loss: 0.0077 - val_loss: 0.0291 - 1s/epoch - 3ms/step\n",
            "Epoch 182/200\n",
            "342/342 - 1s - loss: 0.0081 - val_loss: 0.0324 - 1s/epoch - 4ms/step\n",
            "Epoch 183/200\n",
            "342/342 - 1s - loss: 0.0061 - val_loss: 0.0333 - 1s/epoch - 3ms/step\n",
            "Epoch 184/200\n",
            "342/342 - 1s - loss: 0.0069 - val_loss: 0.0358 - 1s/epoch - 3ms/step\n",
            "Epoch 185/200\n",
            "342/342 - 1s - loss: 0.0073 - val_loss: 0.0304 - 1s/epoch - 3ms/step\n",
            "Epoch 186/200\n",
            "342/342 - 1s - loss: 0.0075 - val_loss: 0.0282 - 1s/epoch - 3ms/step\n",
            "Epoch 187/200\n",
            "342/342 - 1s - loss: 0.0071 - val_loss: 0.0366 - 1s/epoch - 3ms/step\n",
            "Epoch 188/200\n",
            "342/342 - 1s - loss: 0.0061 - val_loss: 0.0337 - 1s/epoch - 3ms/step\n",
            "Epoch 189/200\n",
            "342/342 - 1s - loss: 0.0072 - val_loss: 0.0297 - 1s/epoch - 4ms/step\n",
            "Epoch 190/200\n",
            "342/342 - 1s - loss: 0.0061 - val_loss: 0.0334 - 1s/epoch - 4ms/step\n",
            "Epoch 191/200\n",
            "342/342 - 1s - loss: 0.0071 - val_loss: 0.0347 - 1s/epoch - 4ms/step\n",
            "Epoch 192/200\n",
            "342/342 - 1s - loss: 0.0073 - val_loss: 0.0377 - 1s/epoch - 3ms/step\n",
            "Epoch 193/200\n",
            "342/342 - 1s - loss: 0.0059 - val_loss: 0.0391 - 1s/epoch - 3ms/step\n",
            "Epoch 194/200\n",
            "342/342 - 1s - loss: 0.0068 - val_loss: 0.0404 - 1s/epoch - 4ms/step\n",
            "Epoch 195/200\n",
            "342/342 - 1s - loss: 0.0066 - val_loss: 0.0437 - 1s/epoch - 4ms/step\n",
            "Epoch 196/200\n",
            "342/342 - 1s - loss: 0.0070 - val_loss: 0.0384 - 1s/epoch - 3ms/step\n",
            "Epoch 197/200\n",
            "342/342 - 1s - loss: 0.0068 - val_loss: 0.0311 - 1s/epoch - 3ms/step\n",
            "Epoch 198/200\n",
            "342/342 - 1s - loss: 0.0060 - val_loss: 0.0374 - 1s/epoch - 3ms/step\n",
            "Epoch 199/200\n",
            "342/342 - 1s - loss: 0.0066 - val_loss: 0.0368 - 1s/epoch - 4ms/step\n",
            "Epoch 200/200\n",
            "342/342 - 1s - loss: 0.0070 - val_loss: 0.0423 - 1s/epoch - 4ms/step\n"
          ]
        }
      ]
    },
    {
      "cell_type": "markdown",
      "source": [
        "## Visualizing results"
      ],
      "metadata": {
        "id": "VSBg5o8ali4C"
      }
    },
    {
      "cell_type": "code",
      "source": [
        "plt.plot(history.history['loss'], label='train')\n",
        "plt.plot(history.history['val_loss'], label='test', color='red')\n",
        "plt.legend()\n",
        "plt.show()"
      ],
      "metadata": {
        "id": "NvluF4OxlmQw"
      },
      "execution_count": null,
      "outputs": []
    },
    {
      "cell_type": "markdown",
      "source": [
        "### infer model on test data"
      ],
      "metadata": {
        "id": "vWKbdGIol7-c"
      }
    },
    {
      "cell_type": "code",
      "source": [
        "from sklearn.metrics import mean_squared_error\n",
        "\n",
        "# make a prediction\n",
        "print(test_X.shape)\n",
        "test_X = test_X.reshape((test_X.shape[0], 1, test_X.shape[2]))\n",
        "print(test_X.shape)\n",
        "yhat = model.predict(test_X)\n",
        "test_X = test_X.reshape((test_X.shape[0], test_X.shape[2]))\n",
        "# invert scaling for forecast\n",
        "inv_yhat = np.concatenate((yhat, test_X[:, 1:]), axis=1)\n",
        "inv_yhat = scaler.inverse_transform(inv_yhat)\n",
        "inv_yhat = inv_yhat[:,0]\n",
        "# invert scaling for actual\n",
        "test_y = test_y.reshape((len(test_y), 1))\n",
        "inv_y = np.concatenate((test_y, test_X[:, 1:]), axis=1)\n",
        "inv_y = scaler.inverse_transform(inv_y)\n",
        "inv_y = inv_y[:,0]\n",
        "# calculate RMSE\n",
        "rmse = np.sqrt(mean_squared_error(inv_y, inv_yhat))\n",
        "print('Test RMSE: %.3f' % rmse)"
      ],
      "metadata": {
        "colab": {
          "base_uri": "https://localhost:8080/"
        },
        "id": "cPyqACNol-KU",
        "outputId": "b82e39d9-961c-4b9a-ffe0-91624752cf97"
      },
      "execution_count": null,
      "outputs": [
        {
          "output_type": "stream",
          "name": "stdout",
          "text": [
            "(6000, 1, 12)\n",
            "(6000, 1, 12)\n",
            "188/188 [==============================] - 0s 2ms/step\n",
            "Test RMSE: 111.046\n"
          ]
        }
      ]
    },
    {
      "cell_type": "markdown",
      "source": [
        "an rmse of 111 is pretty good when lookin at sensex pas price values"
      ],
      "metadata": {
        "id": "XK-mZlb8mi1u"
      }
    }
  ]
}